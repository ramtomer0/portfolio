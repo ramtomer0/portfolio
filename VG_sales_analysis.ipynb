{
 "cells": [
  {
   "cell_type": "markdown",
   "id": "e7c95d9c",
   "metadata": {},
   "source": [
    "## Integrated Project 1"
   ]
  },
  {
   "cell_type": "markdown",
   "id": "5d368c41",
   "metadata": {},
   "source": [
    "We work for the online store Ice, which sells video games all over the world. User and expert reviews, genres, platforms (e.g. Xbox or PlayStation), and historical data on game sales are available from open sources. We need to identify patterns that determine whether a game succeeds or not. This will allow us to spot potential big winners and plan advertising campaigns."
   ]
  },
  {
   "cell_type": "markdown",
   "id": "9776c215",
   "metadata": {},
   "source": [
    "## Initialization"
   ]
  },
  {
   "cell_type": "code",
   "execution_count": 1,
   "id": "cfe6ef00",
   "metadata": {
    "scrolled": true
   },
   "outputs": [
    {
     "name": "stdout",
     "output_type": "stream",
     "text": [
      "Defaulting to user installation because normal site-packages is not writeable\n",
      "Requirement already up-to-date: matplotlib in /home/jovyan/.local/lib/python3.7/site-packages (3.5.1)\n",
      "Requirement already satisfied, skipping upgrade: fonttools>=4.22.0 in /home/jovyan/.local/lib/python3.7/site-packages (from matplotlib) (4.29.1)\n",
      "Requirement already satisfied, skipping upgrade: kiwisolver>=1.0.1 in /opt/conda/lib/python3.7/site-packages (from matplotlib) (1.3.1)\n",
      "Requirement already satisfied, skipping upgrade: python-dateutil>=2.7 in /opt/conda/lib/python3.7/site-packages (from matplotlib) (2.8.1)\n",
      "Requirement already satisfied, skipping upgrade: packaging>=20.0 in /opt/conda/lib/python3.7/site-packages (from matplotlib) (20.4)\n",
      "Requirement already satisfied, skipping upgrade: numpy>=1.17 in /opt/conda/lib/python3.7/site-packages (from matplotlib) (1.19.5)\n",
      "Requirement already satisfied, skipping upgrade: pyparsing>=2.2.1 in /opt/conda/lib/python3.7/site-packages (from matplotlib) (2.4.7)\n",
      "Requirement already satisfied, skipping upgrade: cycler>=0.10 in /opt/conda/lib/python3.7/site-packages (from matplotlib) (0.10.0)\n",
      "Requirement already satisfied, skipping upgrade: pillow>=6.2.0 in /opt/conda/lib/python3.7/site-packages (from matplotlib) (7.0.0)\n",
      "Requirement already satisfied, skipping upgrade: six>=1.5 in /opt/conda/lib/python3.7/site-packages (from python-dateutil>=2.7->matplotlib) (1.15.0)\n"
     ]
    }
   ],
   "source": [
    "!pip install --upgrade matplotlib"
   ]
  },
  {
   "cell_type": "code",
   "execution_count": 2,
   "id": "91bc4ad9",
   "metadata": {},
   "outputs": [
    {
     "name": "stdout",
     "output_type": "stream",
     "text": [
      "Defaulting to user installation because normal site-packages is not writeable\n",
      "Requirement already up-to-date: pandas in /home/jovyan/.local/lib/python3.7/site-packages (1.3.5)\n",
      "Requirement already satisfied, skipping upgrade: numpy>=1.17.3; platform_machine != \"aarch64\" and platform_machine != \"arm64\" and python_version < \"3.10\" in /opt/conda/lib/python3.7/site-packages (from pandas) (1.19.5)\n",
      "Requirement already satisfied, skipping upgrade: pytz>=2017.3 in /opt/conda/lib/python3.7/site-packages (from pandas) (2021.1)\n",
      "Requirement already satisfied, skipping upgrade: python-dateutil>=2.7.3 in /opt/conda/lib/python3.7/site-packages (from pandas) (2.8.1)\n",
      "Requirement already satisfied, skipping upgrade: six>=1.5 in /opt/conda/lib/python3.7/site-packages (from python-dateutil>=2.7.3->pandas) (1.15.0)\n"
     ]
    }
   ],
   "source": [
    "!pip install --upgrade pandas\n",
    "# Loading all the libraries\n",
    "import pandas as pd \n",
    "import matplotlib\n",
    "from matplotlib import pyplot as plt\n",
    "import numpy as np\n",
    "import datetime\n",
    "import math\n",
    "from scipy import stats as st"
   ]
  },
  {
   "cell_type": "markdown",
   "id": "9ebf0766",
   "metadata": {},
   "source": [
    "## Load data"
   ]
  },
  {
   "cell_type": "code",
   "execution_count": 3,
   "id": "d0a48fd6",
   "metadata": {},
   "outputs": [],
   "source": [
    "try:\n",
    "    df_games = pd.read_csv('C:/Users/USER/Downloads/games.csv')\n",
    "except:\n",
    "    df_games = pd.read_csv('/datasets/games.csv')"
   ]
  },
  {
   "cell_type": "markdown",
   "id": "02cf092d",
   "metadata": {},
   "source": [
    "## Prepare the data"
   ]
  },
  {
   "cell_type": "markdown",
   "id": "74662dce",
   "metadata": {},
   "source": [
    "Here we will prepare the data for analysis, taking the following steps:\n",
    "1. Replace the column names (make them lowercase).\n",
    "2. Convert data types\n",
    "3. Deal with missing values\n",
    "4. Calculate the total sales (the sum of sales in all regions) for each game and put these values in a separate column"
   ]
  },
  {
   "cell_type": "code",
   "execution_count": 4,
   "id": "02b4231b",
   "metadata": {},
   "outputs": [
    {
     "name": "stdout",
     "output_type": "stream",
     "text": [
      "<class 'pandas.core.frame.DataFrame'>\n",
      "RangeIndex: 16715 entries, 0 to 16714\n",
      "Data columns (total 11 columns):\n",
      " #   Column           Non-Null Count  Dtype  \n",
      "---  ------           --------------  -----  \n",
      " 0   Name             16713 non-null  object \n",
      " 1   Platform         16715 non-null  object \n",
      " 2   Year_of_Release  16446 non-null  float64\n",
      " 3   Genre            16713 non-null  object \n",
      " 4   NA_sales         16715 non-null  float64\n",
      " 5   EU_sales         16715 non-null  float64\n",
      " 6   JP_sales         16715 non-null  float64\n",
      " 7   Other_sales      16715 non-null  float64\n",
      " 8   Critic_Score     8137 non-null   float64\n",
      " 9   User_Score       10014 non-null  object \n",
      " 10  Rating           9949 non-null   object \n",
      "dtypes: float64(6), object(5)\n",
      "memory usage: 1.4+ MB\n",
      "None\n"
     ]
    },
    {
     "data": {
      "text/html": [
       "<div>\n",
       "<style scoped>\n",
       "    .dataframe tbody tr th:only-of-type {\n",
       "        vertical-align: middle;\n",
       "    }\n",
       "\n",
       "    .dataframe tbody tr th {\n",
       "        vertical-align: top;\n",
       "    }\n",
       "\n",
       "    .dataframe thead th {\n",
       "        text-align: right;\n",
       "    }\n",
       "</style>\n",
       "<table border=\"1\" class=\"dataframe\">\n",
       "  <thead>\n",
       "    <tr style=\"text-align: right;\">\n",
       "      <th></th>\n",
       "      <th>Name</th>\n",
       "      <th>Platform</th>\n",
       "      <th>Year_of_Release</th>\n",
       "      <th>Genre</th>\n",
       "      <th>NA_sales</th>\n",
       "      <th>EU_sales</th>\n",
       "      <th>JP_sales</th>\n",
       "      <th>Other_sales</th>\n",
       "      <th>Critic_Score</th>\n",
       "      <th>User_Score</th>\n",
       "      <th>Rating</th>\n",
       "    </tr>\n",
       "  </thead>\n",
       "  <tbody>\n",
       "    <tr>\n",
       "      <th>0</th>\n",
       "      <td>Wii Sports</td>\n",
       "      <td>Wii</td>\n",
       "      <td>2006.0</td>\n",
       "      <td>Sports</td>\n",
       "      <td>41.36</td>\n",
       "      <td>28.96</td>\n",
       "      <td>3.77</td>\n",
       "      <td>8.45</td>\n",
       "      <td>76.0</td>\n",
       "      <td>8</td>\n",
       "      <td>E</td>\n",
       "    </tr>\n",
       "    <tr>\n",
       "      <th>1</th>\n",
       "      <td>Super Mario Bros.</td>\n",
       "      <td>NES</td>\n",
       "      <td>1985.0</td>\n",
       "      <td>Platform</td>\n",
       "      <td>29.08</td>\n",
       "      <td>3.58</td>\n",
       "      <td>6.81</td>\n",
       "      <td>0.77</td>\n",
       "      <td>NaN</td>\n",
       "      <td>NaN</td>\n",
       "      <td>NaN</td>\n",
       "    </tr>\n",
       "    <tr>\n",
       "      <th>2</th>\n",
       "      <td>Mario Kart Wii</td>\n",
       "      <td>Wii</td>\n",
       "      <td>2008.0</td>\n",
       "      <td>Racing</td>\n",
       "      <td>15.68</td>\n",
       "      <td>12.76</td>\n",
       "      <td>3.79</td>\n",
       "      <td>3.29</td>\n",
       "      <td>82.0</td>\n",
       "      <td>8.3</td>\n",
       "      <td>E</td>\n",
       "    </tr>\n",
       "    <tr>\n",
       "      <th>3</th>\n",
       "      <td>Wii Sports Resort</td>\n",
       "      <td>Wii</td>\n",
       "      <td>2009.0</td>\n",
       "      <td>Sports</td>\n",
       "      <td>15.61</td>\n",
       "      <td>10.93</td>\n",
       "      <td>3.28</td>\n",
       "      <td>2.95</td>\n",
       "      <td>80.0</td>\n",
       "      <td>8</td>\n",
       "      <td>E</td>\n",
       "    </tr>\n",
       "    <tr>\n",
       "      <th>4</th>\n",
       "      <td>Pokemon Red/Pokemon Blue</td>\n",
       "      <td>GB</td>\n",
       "      <td>1996.0</td>\n",
       "      <td>Role-Playing</td>\n",
       "      <td>11.27</td>\n",
       "      <td>8.89</td>\n",
       "      <td>10.22</td>\n",
       "      <td>1.00</td>\n",
       "      <td>NaN</td>\n",
       "      <td>NaN</td>\n",
       "      <td>NaN</td>\n",
       "    </tr>\n",
       "    <tr>\n",
       "      <th>5</th>\n",
       "      <td>Tetris</td>\n",
       "      <td>GB</td>\n",
       "      <td>1989.0</td>\n",
       "      <td>Puzzle</td>\n",
       "      <td>23.20</td>\n",
       "      <td>2.26</td>\n",
       "      <td>4.22</td>\n",
       "      <td>0.58</td>\n",
       "      <td>NaN</td>\n",
       "      <td>NaN</td>\n",
       "      <td>NaN</td>\n",
       "    </tr>\n",
       "    <tr>\n",
       "      <th>6</th>\n",
       "      <td>New Super Mario Bros.</td>\n",
       "      <td>DS</td>\n",
       "      <td>2006.0</td>\n",
       "      <td>Platform</td>\n",
       "      <td>11.28</td>\n",
       "      <td>9.14</td>\n",
       "      <td>6.50</td>\n",
       "      <td>2.88</td>\n",
       "      <td>89.0</td>\n",
       "      <td>8.5</td>\n",
       "      <td>E</td>\n",
       "    </tr>\n",
       "    <tr>\n",
       "      <th>7</th>\n",
       "      <td>Wii Play</td>\n",
       "      <td>Wii</td>\n",
       "      <td>2006.0</td>\n",
       "      <td>Misc</td>\n",
       "      <td>13.96</td>\n",
       "      <td>9.18</td>\n",
       "      <td>2.93</td>\n",
       "      <td>2.84</td>\n",
       "      <td>58.0</td>\n",
       "      <td>6.6</td>\n",
       "      <td>E</td>\n",
       "    </tr>\n",
       "    <tr>\n",
       "      <th>8</th>\n",
       "      <td>New Super Mario Bros. Wii</td>\n",
       "      <td>Wii</td>\n",
       "      <td>2009.0</td>\n",
       "      <td>Platform</td>\n",
       "      <td>14.44</td>\n",
       "      <td>6.94</td>\n",
       "      <td>4.70</td>\n",
       "      <td>2.24</td>\n",
       "      <td>87.0</td>\n",
       "      <td>8.4</td>\n",
       "      <td>E</td>\n",
       "    </tr>\n",
       "    <tr>\n",
       "      <th>9</th>\n",
       "      <td>Duck Hunt</td>\n",
       "      <td>NES</td>\n",
       "      <td>1984.0</td>\n",
       "      <td>Shooter</td>\n",
       "      <td>26.93</td>\n",
       "      <td>0.63</td>\n",
       "      <td>0.28</td>\n",
       "      <td>0.47</td>\n",
       "      <td>NaN</td>\n",
       "      <td>NaN</td>\n",
       "      <td>NaN</td>\n",
       "    </tr>\n",
       "  </tbody>\n",
       "</table>\n",
       "</div>"
      ],
      "text/plain": [
       "                        Name Platform  Year_of_Release         Genre  \\\n",
       "0                 Wii Sports      Wii           2006.0        Sports   \n",
       "1          Super Mario Bros.      NES           1985.0      Platform   \n",
       "2             Mario Kart Wii      Wii           2008.0        Racing   \n",
       "3          Wii Sports Resort      Wii           2009.0        Sports   \n",
       "4   Pokemon Red/Pokemon Blue       GB           1996.0  Role-Playing   \n",
       "5                     Tetris       GB           1989.0        Puzzle   \n",
       "6      New Super Mario Bros.       DS           2006.0      Platform   \n",
       "7                   Wii Play      Wii           2006.0          Misc   \n",
       "8  New Super Mario Bros. Wii      Wii           2009.0      Platform   \n",
       "9                  Duck Hunt      NES           1984.0       Shooter   \n",
       "\n",
       "   NA_sales  EU_sales  JP_sales  Other_sales  Critic_Score User_Score Rating  \n",
       "0     41.36     28.96      3.77         8.45          76.0          8      E  \n",
       "1     29.08      3.58      6.81         0.77           NaN        NaN    NaN  \n",
       "2     15.68     12.76      3.79         3.29          82.0        8.3      E  \n",
       "3     15.61     10.93      3.28         2.95          80.0          8      E  \n",
       "4     11.27      8.89     10.22         1.00           NaN        NaN    NaN  \n",
       "5     23.20      2.26      4.22         0.58           NaN        NaN    NaN  \n",
       "6     11.28      9.14      6.50         2.88          89.0        8.5      E  \n",
       "7     13.96      9.18      2.93         2.84          58.0        6.6      E  \n",
       "8     14.44      6.94      4.70         2.24          87.0        8.4      E  \n",
       "9     26.93      0.63      0.28         0.47           NaN        NaN    NaN  "
      ]
     },
     "execution_count": 4,
     "metadata": {},
     "output_type": "execute_result"
    }
   ],
   "source": [
    "print(df_games.info())\n",
    "df_games.head(10)"
   ]
  },
  {
   "cell_type": "markdown",
   "id": "316219d1",
   "metadata": {},
   "source": [
    "There are many missing values across the various rows and columns:\n",
    "\n",
    "The rows with missing values in 'Name' and 'Genre' will be dropped.\n",
    "The few missing values in 'Year_of_Release' will be hard/impossible to fill, might leave them as is.\n",
    "There a lot of missing values in the scores and ratings, will have to look into it and figure out a reason behind it.\n",
    "\n",
    "'Year_of_Release' will need to be converted to int.\n",
    "'User_Score' will need to be converted to float"
   ]
  },
  {
   "cell_type": "markdown",
   "id": "537fe163",
   "metadata": {},
   "source": [
    "## Changing column names"
   ]
  },
  {
   "cell_type": "code",
   "execution_count": 5,
   "id": "e5cb85b8",
   "metadata": {},
   "outputs": [
    {
     "data": {
      "text/html": [
       "<div>\n",
       "<style scoped>\n",
       "    .dataframe tbody tr th:only-of-type {\n",
       "        vertical-align: middle;\n",
       "    }\n",
       "\n",
       "    .dataframe tbody tr th {\n",
       "        vertical-align: top;\n",
       "    }\n",
       "\n",
       "    .dataframe thead th {\n",
       "        text-align: right;\n",
       "    }\n",
       "</style>\n",
       "<table border=\"1\" class=\"dataframe\">\n",
       "  <thead>\n",
       "    <tr style=\"text-align: right;\">\n",
       "      <th></th>\n",
       "      <th>name</th>\n",
       "      <th>platform</th>\n",
       "      <th>year_of_release</th>\n",
       "      <th>genre</th>\n",
       "      <th>na_sales</th>\n",
       "      <th>eu_sales</th>\n",
       "      <th>jp_sales</th>\n",
       "      <th>other_sales</th>\n",
       "      <th>critic_score</th>\n",
       "      <th>user_score</th>\n",
       "      <th>rating</th>\n",
       "    </tr>\n",
       "  </thead>\n",
       "  <tbody>\n",
       "    <tr>\n",
       "      <th>0</th>\n",
       "      <td>Wii Sports</td>\n",
       "      <td>Wii</td>\n",
       "      <td>2006.0</td>\n",
       "      <td>Sports</td>\n",
       "      <td>41.36</td>\n",
       "      <td>28.96</td>\n",
       "      <td>3.77</td>\n",
       "      <td>8.45</td>\n",
       "      <td>76.0</td>\n",
       "      <td>8</td>\n",
       "      <td>E</td>\n",
       "    </tr>\n",
       "    <tr>\n",
       "      <th>1</th>\n",
       "      <td>Super Mario Bros.</td>\n",
       "      <td>NES</td>\n",
       "      <td>1985.0</td>\n",
       "      <td>Platform</td>\n",
       "      <td>29.08</td>\n",
       "      <td>3.58</td>\n",
       "      <td>6.81</td>\n",
       "      <td>0.77</td>\n",
       "      <td>NaN</td>\n",
       "      <td>NaN</td>\n",
       "      <td>NaN</td>\n",
       "    </tr>\n",
       "    <tr>\n",
       "      <th>2</th>\n",
       "      <td>Mario Kart Wii</td>\n",
       "      <td>Wii</td>\n",
       "      <td>2008.0</td>\n",
       "      <td>Racing</td>\n",
       "      <td>15.68</td>\n",
       "      <td>12.76</td>\n",
       "      <td>3.79</td>\n",
       "      <td>3.29</td>\n",
       "      <td>82.0</td>\n",
       "      <td>8.3</td>\n",
       "      <td>E</td>\n",
       "    </tr>\n",
       "    <tr>\n",
       "      <th>3</th>\n",
       "      <td>Wii Sports Resort</td>\n",
       "      <td>Wii</td>\n",
       "      <td>2009.0</td>\n",
       "      <td>Sports</td>\n",
       "      <td>15.61</td>\n",
       "      <td>10.93</td>\n",
       "      <td>3.28</td>\n",
       "      <td>2.95</td>\n",
       "      <td>80.0</td>\n",
       "      <td>8</td>\n",
       "      <td>E</td>\n",
       "    </tr>\n",
       "    <tr>\n",
       "      <th>4</th>\n",
       "      <td>Pokemon Red/Pokemon Blue</td>\n",
       "      <td>GB</td>\n",
       "      <td>1996.0</td>\n",
       "      <td>Role-Playing</td>\n",
       "      <td>11.27</td>\n",
       "      <td>8.89</td>\n",
       "      <td>10.22</td>\n",
       "      <td>1.00</td>\n",
       "      <td>NaN</td>\n",
       "      <td>NaN</td>\n",
       "      <td>NaN</td>\n",
       "    </tr>\n",
       "  </tbody>\n",
       "</table>\n",
       "</div>"
      ],
      "text/plain": [
       "                       name platform  year_of_release         genre  na_sales  \\\n",
       "0                Wii Sports      Wii           2006.0        Sports     41.36   \n",
       "1         Super Mario Bros.      NES           1985.0      Platform     29.08   \n",
       "2            Mario Kart Wii      Wii           2008.0        Racing     15.68   \n",
       "3         Wii Sports Resort      Wii           2009.0        Sports     15.61   \n",
       "4  Pokemon Red/Pokemon Blue       GB           1996.0  Role-Playing     11.27   \n",
       "\n",
       "   eu_sales  jp_sales  other_sales  critic_score user_score rating  \n",
       "0     28.96      3.77         8.45          76.0          8      E  \n",
       "1      3.58      6.81         0.77           NaN        NaN    NaN  \n",
       "2     12.76      3.79         3.29          82.0        8.3      E  \n",
       "3     10.93      3.28         2.95          80.0          8      E  \n",
       "4      8.89     10.22         1.00           NaN        NaN    NaN  "
      ]
     },
     "execution_count": 5,
     "metadata": {},
     "output_type": "execute_result"
    }
   ],
   "source": [
    "df_games.columns = df_games.columns.str.lower()\n",
    "df_games.head()"
   ]
  },
  {
   "cell_type": "markdown",
   "id": "22625b59",
   "metadata": {},
   "source": [
    "## Treat missing values (where possible)"
   ]
  },
  {
   "cell_type": "markdown",
   "id": "9442262b",
   "metadata": {},
   "source": [
    "We will now look at the 2 missing values in 'Name' and 'Genre'. \n",
    "My guess is that it will be the same 2 rows."
   ]
  },
  {
   "cell_type": "code",
   "execution_count": 6,
   "id": "c4f67d01",
   "metadata": {
    "scrolled": true
   },
   "outputs": [
    {
     "name": "stdout",
     "output_type": "stream",
     "text": [
      "      name platform  year_of_release genre  na_sales  eu_sales  jp_sales  \\\n",
      "659    NaN      GEN           1993.0   NaN      1.78      0.53      0.00   \n",
      "14244  NaN      GEN           1993.0   NaN      0.00      0.00      0.03   \n",
      "\n",
      "       other_sales  critic_score user_score rating  \n",
      "659           0.08           NaN        NaN    NaN  \n",
      "14244         0.00           NaN        NaN    NaN  \n",
      "Empty DataFrame\n",
      "Columns: [name, platform, year_of_release, genre, na_sales, eu_sales, jp_sales, other_sales, critic_score, user_score, rating]\n",
      "Index: []\n"
     ]
    }
   ],
   "source": [
    "print(df_games.query('name != name'))\n",
    "#Now to get rid of it\n",
    "df_games = df_games.query('name == name')\n",
    "print(df_games.query('name != name').head())"
   ]
  },
  {
   "cell_type": "markdown",
   "id": "bdb46373",
   "metadata": {},
   "source": [
    "Looking at missing values in 'year_of_release'"
   ]
  },
  {
   "cell_type": "code",
   "execution_count": 7,
   "id": "f1d9351f",
   "metadata": {},
   "outputs": [
    {
     "data": {
      "text/html": [
       "<div>\n",
       "<style scoped>\n",
       "    .dataframe tbody tr th:only-of-type {\n",
       "        vertical-align: middle;\n",
       "    }\n",
       "\n",
       "    .dataframe tbody tr th {\n",
       "        vertical-align: top;\n",
       "    }\n",
       "\n",
       "    .dataframe thead th {\n",
       "        text-align: right;\n",
       "    }\n",
       "</style>\n",
       "<table border=\"1\" class=\"dataframe\">\n",
       "  <thead>\n",
       "    <tr style=\"text-align: right;\">\n",
       "      <th></th>\n",
       "      <th>name</th>\n",
       "      <th>platform</th>\n",
       "      <th>year_of_release</th>\n",
       "      <th>genre</th>\n",
       "      <th>na_sales</th>\n",
       "      <th>eu_sales</th>\n",
       "      <th>jp_sales</th>\n",
       "      <th>other_sales</th>\n",
       "      <th>critic_score</th>\n",
       "      <th>user_score</th>\n",
       "      <th>rating</th>\n",
       "    </tr>\n",
       "  </thead>\n",
       "  <tbody>\n",
       "    <tr>\n",
       "      <th>183</th>\n",
       "      <td>Madden NFL 2004</td>\n",
       "      <td>PS2</td>\n",
       "      <td>NaN</td>\n",
       "      <td>Sports</td>\n",
       "      <td>4.26</td>\n",
       "      <td>0.26</td>\n",
       "      <td>0.01</td>\n",
       "      <td>0.71</td>\n",
       "      <td>94.0</td>\n",
       "      <td>8.5</td>\n",
       "      <td>E</td>\n",
       "    </tr>\n",
       "    <tr>\n",
       "      <th>377</th>\n",
       "      <td>FIFA Soccer 2004</td>\n",
       "      <td>PS2</td>\n",
       "      <td>NaN</td>\n",
       "      <td>Sports</td>\n",
       "      <td>0.59</td>\n",
       "      <td>2.36</td>\n",
       "      <td>0.04</td>\n",
       "      <td>0.51</td>\n",
       "      <td>84.0</td>\n",
       "      <td>6.4</td>\n",
       "      <td>E</td>\n",
       "    </tr>\n",
       "    <tr>\n",
       "      <th>456</th>\n",
       "      <td>LEGO Batman: The Videogame</td>\n",
       "      <td>Wii</td>\n",
       "      <td>NaN</td>\n",
       "      <td>Action</td>\n",
       "      <td>1.80</td>\n",
       "      <td>0.97</td>\n",
       "      <td>0.00</td>\n",
       "      <td>0.29</td>\n",
       "      <td>74.0</td>\n",
       "      <td>7.9</td>\n",
       "      <td>E10+</td>\n",
       "    </tr>\n",
       "    <tr>\n",
       "      <th>475</th>\n",
       "      <td>wwe Smackdown vs. Raw 2006</td>\n",
       "      <td>PS2</td>\n",
       "      <td>NaN</td>\n",
       "      <td>Fighting</td>\n",
       "      <td>1.57</td>\n",
       "      <td>1.02</td>\n",
       "      <td>0.00</td>\n",
       "      <td>0.41</td>\n",
       "      <td>NaN</td>\n",
       "      <td>NaN</td>\n",
       "      <td>NaN</td>\n",
       "    </tr>\n",
       "    <tr>\n",
       "      <th>609</th>\n",
       "      <td>Space Invaders</td>\n",
       "      <td>2600</td>\n",
       "      <td>NaN</td>\n",
       "      <td>Shooter</td>\n",
       "      <td>2.36</td>\n",
       "      <td>0.14</td>\n",
       "      <td>0.00</td>\n",
       "      <td>0.03</td>\n",
       "      <td>NaN</td>\n",
       "      <td>NaN</td>\n",
       "      <td>NaN</td>\n",
       "    </tr>\n",
       "    <tr>\n",
       "      <th>...</th>\n",
       "      <td>...</td>\n",
       "      <td>...</td>\n",
       "      <td>...</td>\n",
       "      <td>...</td>\n",
       "      <td>...</td>\n",
       "      <td>...</td>\n",
       "      <td>...</td>\n",
       "      <td>...</td>\n",
       "      <td>...</td>\n",
       "      <td>...</td>\n",
       "      <td>...</td>\n",
       "    </tr>\n",
       "    <tr>\n",
       "      <th>16373</th>\n",
       "      <td>PDC World Championship Darts 2008</td>\n",
       "      <td>PSP</td>\n",
       "      <td>NaN</td>\n",
       "      <td>Sports</td>\n",
       "      <td>0.01</td>\n",
       "      <td>0.00</td>\n",
       "      <td>0.00</td>\n",
       "      <td>0.00</td>\n",
       "      <td>43.0</td>\n",
       "      <td>tbd</td>\n",
       "      <td>E10+</td>\n",
       "    </tr>\n",
       "    <tr>\n",
       "      <th>16405</th>\n",
       "      <td>Freaky Flyers</td>\n",
       "      <td>GC</td>\n",
       "      <td>NaN</td>\n",
       "      <td>Racing</td>\n",
       "      <td>0.01</td>\n",
       "      <td>0.00</td>\n",
       "      <td>0.00</td>\n",
       "      <td>0.00</td>\n",
       "      <td>69.0</td>\n",
       "      <td>6.5</td>\n",
       "      <td>T</td>\n",
       "    </tr>\n",
       "    <tr>\n",
       "      <th>16448</th>\n",
       "      <td>Inversion</td>\n",
       "      <td>PC</td>\n",
       "      <td>NaN</td>\n",
       "      <td>Shooter</td>\n",
       "      <td>0.01</td>\n",
       "      <td>0.00</td>\n",
       "      <td>0.00</td>\n",
       "      <td>0.00</td>\n",
       "      <td>59.0</td>\n",
       "      <td>6.7</td>\n",
       "      <td>M</td>\n",
       "    </tr>\n",
       "    <tr>\n",
       "      <th>16458</th>\n",
       "      <td>Hakuouki: Shinsengumi Kitan</td>\n",
       "      <td>PS3</td>\n",
       "      <td>NaN</td>\n",
       "      <td>Adventure</td>\n",
       "      <td>0.01</td>\n",
       "      <td>0.00</td>\n",
       "      <td>0.00</td>\n",
       "      <td>0.00</td>\n",
       "      <td>NaN</td>\n",
       "      <td>NaN</td>\n",
       "      <td>NaN</td>\n",
       "    </tr>\n",
       "    <tr>\n",
       "      <th>16522</th>\n",
       "      <td>Virtua Quest</td>\n",
       "      <td>GC</td>\n",
       "      <td>NaN</td>\n",
       "      <td>Role-Playing</td>\n",
       "      <td>0.01</td>\n",
       "      <td>0.00</td>\n",
       "      <td>0.00</td>\n",
       "      <td>0.00</td>\n",
       "      <td>55.0</td>\n",
       "      <td>5.5</td>\n",
       "      <td>T</td>\n",
       "    </tr>\n",
       "  </tbody>\n",
       "</table>\n",
       "<p>269 rows × 11 columns</p>\n",
       "</div>"
      ],
      "text/plain": [
       "                                    name platform  year_of_release  \\\n",
       "183                      Madden NFL 2004      PS2              NaN   \n",
       "377                     FIFA Soccer 2004      PS2              NaN   \n",
       "456           LEGO Batman: The Videogame      Wii              NaN   \n",
       "475           wwe Smackdown vs. Raw 2006      PS2              NaN   \n",
       "609                       Space Invaders     2600              NaN   \n",
       "...                                  ...      ...              ...   \n",
       "16373  PDC World Championship Darts 2008      PSP              NaN   \n",
       "16405                      Freaky Flyers       GC              NaN   \n",
       "16448                          Inversion       PC              NaN   \n",
       "16458        Hakuouki: Shinsengumi Kitan      PS3              NaN   \n",
       "16522                       Virtua Quest       GC              NaN   \n",
       "\n",
       "              genre  na_sales  eu_sales  jp_sales  other_sales  critic_score  \\\n",
       "183          Sports      4.26      0.26      0.01         0.71          94.0   \n",
       "377          Sports      0.59      2.36      0.04         0.51          84.0   \n",
       "456          Action      1.80      0.97      0.00         0.29          74.0   \n",
       "475        Fighting      1.57      1.02      0.00         0.41           NaN   \n",
       "609         Shooter      2.36      0.14      0.00         0.03           NaN   \n",
       "...             ...       ...       ...       ...          ...           ...   \n",
       "16373        Sports      0.01      0.00      0.00         0.00          43.0   \n",
       "16405        Racing      0.01      0.00      0.00         0.00          69.0   \n",
       "16448       Shooter      0.01      0.00      0.00         0.00          59.0   \n",
       "16458     Adventure      0.01      0.00      0.00         0.00           NaN   \n",
       "16522  Role-Playing      0.01      0.00      0.00         0.00          55.0   \n",
       "\n",
       "      user_score rating  \n",
       "183          8.5      E  \n",
       "377          6.4      E  \n",
       "456          7.9   E10+  \n",
       "475          NaN    NaN  \n",
       "609          NaN    NaN  \n",
       "...          ...    ...  \n",
       "16373        tbd   E10+  \n",
       "16405        6.5      T  \n",
       "16448        6.7      M  \n",
       "16458        NaN    NaN  \n",
       "16522        5.5      T  \n",
       "\n",
       "[269 rows x 11 columns]"
      ]
     },
     "execution_count": 7,
     "metadata": {},
     "output_type": "execute_result"
    }
   ],
   "source": [
    "df_games.query('year_of_release != year_of_release')"
   ]
  },
  {
   "cell_type": "markdown",
   "id": "4aafbadb",
   "metadata": {},
   "source": [
    "There doesnt seem to be any pattern to the missing values in 'year_of_release' (might be human error), and since we need to convert it to int we MUST fill in the missing values. we will fill them with 0, and in calculations we will ignore them as needed"
   ]
  },
  {
   "cell_type": "code",
   "execution_count": 8,
   "id": "dd3a0940",
   "metadata": {},
   "outputs": [],
   "source": [
    "df_games['year_of_release'].fillna(value=0, inplace=True)"
   ]
  },
  {
   "cell_type": "markdown",
   "id": "d74f90ca",
   "metadata": {},
   "source": [
    "Now we will look at the missing values in 'user_score'"
   ]
  },
  {
   "cell_type": "code",
   "execution_count": 9,
   "id": "bda4d802",
   "metadata": {},
   "outputs": [
    {
     "data": {
      "text/html": [
       "<div>\n",
       "<style scoped>\n",
       "    .dataframe tbody tr th:only-of-type {\n",
       "        vertical-align: middle;\n",
       "    }\n",
       "\n",
       "    .dataframe tbody tr th {\n",
       "        vertical-align: top;\n",
       "    }\n",
       "\n",
       "    .dataframe thead th {\n",
       "        text-align: right;\n",
       "    }\n",
       "</style>\n",
       "<table border=\"1\" class=\"dataframe\">\n",
       "  <thead>\n",
       "    <tr style=\"text-align: right;\">\n",
       "      <th></th>\n",
       "      <th>name</th>\n",
       "      <th>platform</th>\n",
       "      <th>year_of_release</th>\n",
       "      <th>genre</th>\n",
       "      <th>na_sales</th>\n",
       "      <th>eu_sales</th>\n",
       "      <th>jp_sales</th>\n",
       "      <th>other_sales</th>\n",
       "      <th>critic_score</th>\n",
       "      <th>user_score</th>\n",
       "      <th>rating</th>\n",
       "    </tr>\n",
       "  </thead>\n",
       "  <tbody>\n",
       "    <tr>\n",
       "      <th>1</th>\n",
       "      <td>Super Mario Bros.</td>\n",
       "      <td>NES</td>\n",
       "      <td>1985.0</td>\n",
       "      <td>Platform</td>\n",
       "      <td>29.08</td>\n",
       "      <td>3.58</td>\n",
       "      <td>6.81</td>\n",
       "      <td>0.77</td>\n",
       "      <td>NaN</td>\n",
       "      <td>NaN</td>\n",
       "      <td>NaN</td>\n",
       "    </tr>\n",
       "    <tr>\n",
       "      <th>4</th>\n",
       "      <td>Pokemon Red/Pokemon Blue</td>\n",
       "      <td>GB</td>\n",
       "      <td>1996.0</td>\n",
       "      <td>Role-Playing</td>\n",
       "      <td>11.27</td>\n",
       "      <td>8.89</td>\n",
       "      <td>10.22</td>\n",
       "      <td>1.00</td>\n",
       "      <td>NaN</td>\n",
       "      <td>NaN</td>\n",
       "      <td>NaN</td>\n",
       "    </tr>\n",
       "    <tr>\n",
       "      <th>5</th>\n",
       "      <td>Tetris</td>\n",
       "      <td>GB</td>\n",
       "      <td>1989.0</td>\n",
       "      <td>Puzzle</td>\n",
       "      <td>23.20</td>\n",
       "      <td>2.26</td>\n",
       "      <td>4.22</td>\n",
       "      <td>0.58</td>\n",
       "      <td>NaN</td>\n",
       "      <td>NaN</td>\n",
       "      <td>NaN</td>\n",
       "    </tr>\n",
       "    <tr>\n",
       "      <th>9</th>\n",
       "      <td>Duck Hunt</td>\n",
       "      <td>NES</td>\n",
       "      <td>1984.0</td>\n",
       "      <td>Shooter</td>\n",
       "      <td>26.93</td>\n",
       "      <td>0.63</td>\n",
       "      <td>0.28</td>\n",
       "      <td>0.47</td>\n",
       "      <td>NaN</td>\n",
       "      <td>NaN</td>\n",
       "      <td>NaN</td>\n",
       "    </tr>\n",
       "    <tr>\n",
       "      <th>10</th>\n",
       "      <td>Nintendogs</td>\n",
       "      <td>DS</td>\n",
       "      <td>2005.0</td>\n",
       "      <td>Simulation</td>\n",
       "      <td>9.05</td>\n",
       "      <td>10.95</td>\n",
       "      <td>1.93</td>\n",
       "      <td>2.74</td>\n",
       "      <td>NaN</td>\n",
       "      <td>NaN</td>\n",
       "      <td>NaN</td>\n",
       "    </tr>\n",
       "    <tr>\n",
       "      <th>...</th>\n",
       "      <td>...</td>\n",
       "      <td>...</td>\n",
       "      <td>...</td>\n",
       "      <td>...</td>\n",
       "      <td>...</td>\n",
       "      <td>...</td>\n",
       "      <td>...</td>\n",
       "      <td>...</td>\n",
       "      <td>...</td>\n",
       "      <td>...</td>\n",
       "      <td>...</td>\n",
       "    </tr>\n",
       "    <tr>\n",
       "      <th>16710</th>\n",
       "      <td>Samurai Warriors: Sanada Maru</td>\n",
       "      <td>PS3</td>\n",
       "      <td>2016.0</td>\n",
       "      <td>Action</td>\n",
       "      <td>0.00</td>\n",
       "      <td>0.00</td>\n",
       "      <td>0.01</td>\n",
       "      <td>0.00</td>\n",
       "      <td>NaN</td>\n",
       "      <td>NaN</td>\n",
       "      <td>NaN</td>\n",
       "    </tr>\n",
       "    <tr>\n",
       "      <th>16711</th>\n",
       "      <td>LMA Manager 2007</td>\n",
       "      <td>X360</td>\n",
       "      <td>2006.0</td>\n",
       "      <td>Sports</td>\n",
       "      <td>0.00</td>\n",
       "      <td>0.01</td>\n",
       "      <td>0.00</td>\n",
       "      <td>0.00</td>\n",
       "      <td>NaN</td>\n",
       "      <td>NaN</td>\n",
       "      <td>NaN</td>\n",
       "    </tr>\n",
       "    <tr>\n",
       "      <th>16712</th>\n",
       "      <td>Haitaka no Psychedelica</td>\n",
       "      <td>PSV</td>\n",
       "      <td>2016.0</td>\n",
       "      <td>Adventure</td>\n",
       "      <td>0.00</td>\n",
       "      <td>0.00</td>\n",
       "      <td>0.01</td>\n",
       "      <td>0.00</td>\n",
       "      <td>NaN</td>\n",
       "      <td>NaN</td>\n",
       "      <td>NaN</td>\n",
       "    </tr>\n",
       "    <tr>\n",
       "      <th>16713</th>\n",
       "      <td>Spirits &amp; Spells</td>\n",
       "      <td>GBA</td>\n",
       "      <td>2003.0</td>\n",
       "      <td>Platform</td>\n",
       "      <td>0.01</td>\n",
       "      <td>0.00</td>\n",
       "      <td>0.00</td>\n",
       "      <td>0.00</td>\n",
       "      <td>NaN</td>\n",
       "      <td>NaN</td>\n",
       "      <td>NaN</td>\n",
       "    </tr>\n",
       "    <tr>\n",
       "      <th>16714</th>\n",
       "      <td>Winning Post 8 2016</td>\n",
       "      <td>PSV</td>\n",
       "      <td>2016.0</td>\n",
       "      <td>Simulation</td>\n",
       "      <td>0.00</td>\n",
       "      <td>0.00</td>\n",
       "      <td>0.01</td>\n",
       "      <td>0.00</td>\n",
       "      <td>NaN</td>\n",
       "      <td>NaN</td>\n",
       "      <td>NaN</td>\n",
       "    </tr>\n",
       "  </tbody>\n",
       "</table>\n",
       "<p>6699 rows × 11 columns</p>\n",
       "</div>"
      ],
      "text/plain": [
       "                                name platform  year_of_release         genre  \\\n",
       "1                  Super Mario Bros.      NES           1985.0      Platform   \n",
       "4           Pokemon Red/Pokemon Blue       GB           1996.0  Role-Playing   \n",
       "5                             Tetris       GB           1989.0        Puzzle   \n",
       "9                          Duck Hunt      NES           1984.0       Shooter   \n",
       "10                        Nintendogs       DS           2005.0    Simulation   \n",
       "...                              ...      ...              ...           ...   \n",
       "16710  Samurai Warriors: Sanada Maru      PS3           2016.0        Action   \n",
       "16711               LMA Manager 2007     X360           2006.0        Sports   \n",
       "16712        Haitaka no Psychedelica      PSV           2016.0     Adventure   \n",
       "16713               Spirits & Spells      GBA           2003.0      Platform   \n",
       "16714            Winning Post 8 2016      PSV           2016.0    Simulation   \n",
       "\n",
       "       na_sales  eu_sales  jp_sales  other_sales  critic_score user_score  \\\n",
       "1         29.08      3.58      6.81         0.77           NaN        NaN   \n",
       "4         11.27      8.89     10.22         1.00           NaN        NaN   \n",
       "5         23.20      2.26      4.22         0.58           NaN        NaN   \n",
       "9         26.93      0.63      0.28         0.47           NaN        NaN   \n",
       "10         9.05     10.95      1.93         2.74           NaN        NaN   \n",
       "...         ...       ...       ...          ...           ...        ...   \n",
       "16710      0.00      0.00      0.01         0.00           NaN        NaN   \n",
       "16711      0.00      0.01      0.00         0.00           NaN        NaN   \n",
       "16712      0.00      0.00      0.01         0.00           NaN        NaN   \n",
       "16713      0.01      0.00      0.00         0.00           NaN        NaN   \n",
       "16714      0.00      0.00      0.01         0.00           NaN        NaN   \n",
       "\n",
       "      rating  \n",
       "1        NaN  \n",
       "4        NaN  \n",
       "5        NaN  \n",
       "9        NaN  \n",
       "10       NaN  \n",
       "...      ...  \n",
       "16710    NaN  \n",
       "16711    NaN  \n",
       "16712    NaN  \n",
       "16713    NaN  \n",
       "16714    NaN  \n",
       "\n",
       "[6699 rows x 11 columns]"
      ]
     },
     "execution_count": 9,
     "metadata": {},
     "output_type": "execute_result"
    }
   ],
   "source": [
    "df_games.query('user_score != user_score')"
   ]
  },
  {
   "cell_type": "code",
   "execution_count": 10,
   "id": "2966916c",
   "metadata": {
    "scrolled": true
   },
   "outputs": [
    {
     "data": {
      "text/plain": [
       "tbd    2424\n",
       "7.8     324\n",
       "8       290\n",
       "8.2     282\n",
       "8.3     254\n",
       "       ... \n",
       "1.1       2\n",
       "1.9       2\n",
       "9.6       2\n",
       "0         1\n",
       "9.7       1\n",
       "Name: user_score, Length: 96, dtype: int64"
      ]
     },
     "execution_count": 10,
     "metadata": {},
     "output_type": "execute_result"
    }
   ],
   "source": [
    "df_games['user_score'].value_counts()"
   ]
  },
  {
   "cell_type": "markdown",
   "id": "0255f1d5",
   "metadata": {},
   "source": [
    "There are many missing values in 'user_score', and a lot of rows with 'tbd' for value. Later on we will replace the 'tbd' with 0 so we can convert the column to float. For now we will just fill missing values with 0 and then turn them back to NaN later on"
   ]
  },
  {
   "cell_type": "code",
   "execution_count": 11,
   "id": "1ad8348f",
   "metadata": {},
   "outputs": [],
   "source": [
    "df_games['user_score'].fillna(value=0, inplace=True)"
   ]
  },
  {
   "cell_type": "markdown",
   "id": "07d35234",
   "metadata": {},
   "source": [
    "Now we will look at missing values in 'critic_score', the one with the most missing values (around 50%)"
   ]
  },
  {
   "cell_type": "code",
   "execution_count": 12,
   "id": "9e7304be",
   "metadata": {},
   "outputs": [
    {
     "data": {
      "text/html": [
       "<div>\n",
       "<style scoped>\n",
       "    .dataframe tbody tr th:only-of-type {\n",
       "        vertical-align: middle;\n",
       "    }\n",
       "\n",
       "    .dataframe tbody tr th {\n",
       "        vertical-align: top;\n",
       "    }\n",
       "\n",
       "    .dataframe thead th {\n",
       "        text-align: right;\n",
       "    }\n",
       "</style>\n",
       "<table border=\"1\" class=\"dataframe\">\n",
       "  <thead>\n",
       "    <tr style=\"text-align: right;\">\n",
       "      <th></th>\n",
       "      <th>name</th>\n",
       "      <th>platform</th>\n",
       "      <th>year_of_release</th>\n",
       "      <th>genre</th>\n",
       "      <th>na_sales</th>\n",
       "      <th>eu_sales</th>\n",
       "      <th>jp_sales</th>\n",
       "      <th>other_sales</th>\n",
       "      <th>critic_score</th>\n",
       "      <th>user_score</th>\n",
       "      <th>rating</th>\n",
       "    </tr>\n",
       "  </thead>\n",
       "  <tbody>\n",
       "    <tr>\n",
       "      <th>1</th>\n",
       "      <td>Super Mario Bros.</td>\n",
       "      <td>NES</td>\n",
       "      <td>1985.0</td>\n",
       "      <td>Platform</td>\n",
       "      <td>29.08</td>\n",
       "      <td>3.58</td>\n",
       "      <td>6.81</td>\n",
       "      <td>0.77</td>\n",
       "      <td>NaN</td>\n",
       "      <td>0</td>\n",
       "      <td>NaN</td>\n",
       "    </tr>\n",
       "    <tr>\n",
       "      <th>4</th>\n",
       "      <td>Pokemon Red/Pokemon Blue</td>\n",
       "      <td>GB</td>\n",
       "      <td>1996.0</td>\n",
       "      <td>Role-Playing</td>\n",
       "      <td>11.27</td>\n",
       "      <td>8.89</td>\n",
       "      <td>10.22</td>\n",
       "      <td>1.00</td>\n",
       "      <td>NaN</td>\n",
       "      <td>0</td>\n",
       "      <td>NaN</td>\n",
       "    </tr>\n",
       "    <tr>\n",
       "      <th>5</th>\n",
       "      <td>Tetris</td>\n",
       "      <td>GB</td>\n",
       "      <td>1989.0</td>\n",
       "      <td>Puzzle</td>\n",
       "      <td>23.20</td>\n",
       "      <td>2.26</td>\n",
       "      <td>4.22</td>\n",
       "      <td>0.58</td>\n",
       "      <td>NaN</td>\n",
       "      <td>0</td>\n",
       "      <td>NaN</td>\n",
       "    </tr>\n",
       "    <tr>\n",
       "      <th>9</th>\n",
       "      <td>Duck Hunt</td>\n",
       "      <td>NES</td>\n",
       "      <td>1984.0</td>\n",
       "      <td>Shooter</td>\n",
       "      <td>26.93</td>\n",
       "      <td>0.63</td>\n",
       "      <td>0.28</td>\n",
       "      <td>0.47</td>\n",
       "      <td>NaN</td>\n",
       "      <td>0</td>\n",
       "      <td>NaN</td>\n",
       "    </tr>\n",
       "    <tr>\n",
       "      <th>10</th>\n",
       "      <td>Nintendogs</td>\n",
       "      <td>DS</td>\n",
       "      <td>2005.0</td>\n",
       "      <td>Simulation</td>\n",
       "      <td>9.05</td>\n",
       "      <td>10.95</td>\n",
       "      <td>1.93</td>\n",
       "      <td>2.74</td>\n",
       "      <td>NaN</td>\n",
       "      <td>0</td>\n",
       "      <td>NaN</td>\n",
       "    </tr>\n",
       "    <tr>\n",
       "      <th>...</th>\n",
       "      <td>...</td>\n",
       "      <td>...</td>\n",
       "      <td>...</td>\n",
       "      <td>...</td>\n",
       "      <td>...</td>\n",
       "      <td>...</td>\n",
       "      <td>...</td>\n",
       "      <td>...</td>\n",
       "      <td>...</td>\n",
       "      <td>...</td>\n",
       "      <td>...</td>\n",
       "    </tr>\n",
       "    <tr>\n",
       "      <th>16710</th>\n",
       "      <td>Samurai Warriors: Sanada Maru</td>\n",
       "      <td>PS3</td>\n",
       "      <td>2016.0</td>\n",
       "      <td>Action</td>\n",
       "      <td>0.00</td>\n",
       "      <td>0.00</td>\n",
       "      <td>0.01</td>\n",
       "      <td>0.00</td>\n",
       "      <td>NaN</td>\n",
       "      <td>0</td>\n",
       "      <td>NaN</td>\n",
       "    </tr>\n",
       "    <tr>\n",
       "      <th>16711</th>\n",
       "      <td>LMA Manager 2007</td>\n",
       "      <td>X360</td>\n",
       "      <td>2006.0</td>\n",
       "      <td>Sports</td>\n",
       "      <td>0.00</td>\n",
       "      <td>0.01</td>\n",
       "      <td>0.00</td>\n",
       "      <td>0.00</td>\n",
       "      <td>NaN</td>\n",
       "      <td>0</td>\n",
       "      <td>NaN</td>\n",
       "    </tr>\n",
       "    <tr>\n",
       "      <th>16712</th>\n",
       "      <td>Haitaka no Psychedelica</td>\n",
       "      <td>PSV</td>\n",
       "      <td>2016.0</td>\n",
       "      <td>Adventure</td>\n",
       "      <td>0.00</td>\n",
       "      <td>0.00</td>\n",
       "      <td>0.01</td>\n",
       "      <td>0.00</td>\n",
       "      <td>NaN</td>\n",
       "      <td>0</td>\n",
       "      <td>NaN</td>\n",
       "    </tr>\n",
       "    <tr>\n",
       "      <th>16713</th>\n",
       "      <td>Spirits &amp; Spells</td>\n",
       "      <td>GBA</td>\n",
       "      <td>2003.0</td>\n",
       "      <td>Platform</td>\n",
       "      <td>0.01</td>\n",
       "      <td>0.00</td>\n",
       "      <td>0.00</td>\n",
       "      <td>0.00</td>\n",
       "      <td>NaN</td>\n",
       "      <td>0</td>\n",
       "      <td>NaN</td>\n",
       "    </tr>\n",
       "    <tr>\n",
       "      <th>16714</th>\n",
       "      <td>Winning Post 8 2016</td>\n",
       "      <td>PSV</td>\n",
       "      <td>2016.0</td>\n",
       "      <td>Simulation</td>\n",
       "      <td>0.00</td>\n",
       "      <td>0.00</td>\n",
       "      <td>0.01</td>\n",
       "      <td>0.00</td>\n",
       "      <td>NaN</td>\n",
       "      <td>0</td>\n",
       "      <td>NaN</td>\n",
       "    </tr>\n",
       "  </tbody>\n",
       "</table>\n",
       "<p>8576 rows × 11 columns</p>\n",
       "</div>"
      ],
      "text/plain": [
       "                                name platform  year_of_release         genre  \\\n",
       "1                  Super Mario Bros.      NES           1985.0      Platform   \n",
       "4           Pokemon Red/Pokemon Blue       GB           1996.0  Role-Playing   \n",
       "5                             Tetris       GB           1989.0        Puzzle   \n",
       "9                          Duck Hunt      NES           1984.0       Shooter   \n",
       "10                        Nintendogs       DS           2005.0    Simulation   \n",
       "...                              ...      ...              ...           ...   \n",
       "16710  Samurai Warriors: Sanada Maru      PS3           2016.0        Action   \n",
       "16711               LMA Manager 2007     X360           2006.0        Sports   \n",
       "16712        Haitaka no Psychedelica      PSV           2016.0     Adventure   \n",
       "16713               Spirits & Spells      GBA           2003.0      Platform   \n",
       "16714            Winning Post 8 2016      PSV           2016.0    Simulation   \n",
       "\n",
       "       na_sales  eu_sales  jp_sales  other_sales  critic_score user_score  \\\n",
       "1         29.08      3.58      6.81         0.77           NaN          0   \n",
       "4         11.27      8.89     10.22         1.00           NaN          0   \n",
       "5         23.20      2.26      4.22         0.58           NaN          0   \n",
       "9         26.93      0.63      0.28         0.47           NaN          0   \n",
       "10         9.05     10.95      1.93         2.74           NaN          0   \n",
       "...         ...       ...       ...          ...           ...        ...   \n",
       "16710      0.00      0.00      0.01         0.00           NaN          0   \n",
       "16711      0.00      0.01      0.00         0.00           NaN          0   \n",
       "16712      0.00      0.00      0.01         0.00           NaN          0   \n",
       "16713      0.01      0.00      0.00         0.00           NaN          0   \n",
       "16714      0.00      0.00      0.01         0.00           NaN          0   \n",
       "\n",
       "      rating  \n",
       "1        NaN  \n",
       "4        NaN  \n",
       "5        NaN  \n",
       "9        NaN  \n",
       "10       NaN  \n",
       "...      ...  \n",
       "16710    NaN  \n",
       "16711    NaN  \n",
       "16712    NaN  \n",
       "16713    NaN  \n",
       "16714    NaN  \n",
       "\n",
       "[8576 rows x 11 columns]"
      ]
     },
     "execution_count": 12,
     "metadata": {},
     "output_type": "execute_result"
    }
   ],
   "source": [
    "df_games.query('critic_score != critic_score')"
   ]
  },
  {
   "cell_type": "markdown",
   "id": "4f59707a",
   "metadata": {},
   "source": [
    "By looking at the table one may think that when 'critic_score' is missing then the 'user_score' and 'rating' are missing, but after looking at the .info of the table you can see that we have around 50% missing values in 'critic_score', and around 33% in the other two.\n",
    "In our analysis we will focus mainly on sales, therefore we can afford to leave missing values in the scores. \n",
    "\n",
    "As for why the values are missing in the various scores and ratings, it seems completely random as it applies to games from a wide range of years, genres, platforms etc. Possibly human error."
   ]
  },
  {
   "cell_type": "markdown",
   "id": "2aca9b50",
   "metadata": {},
   "source": [
    "## Changing data types"
   ]
  },
  {
   "cell_type": "markdown",
   "id": "04349507",
   "metadata": {},
   "source": [
    "We will now proceed to convert the data type of 'year_of_release' to int, and the 'user_score' to float after replace the 'tbd' values in it with 0"
   ]
  },
  {
   "cell_type": "code",
   "execution_count": 13,
   "id": "2fb86788",
   "metadata": {},
   "outputs": [],
   "source": [
    "df_games['year_of_release'] = df_games['year_of_release'].astype(int)\n",
    "df_games['user_score'].replace(to_replace = 'tbd', value = 0, inplace = True)\n",
    "df_games['user_score'] = pd.to_numeric(df_games['user_score']).astype(float)"
   ]
  },
  {
   "cell_type": "code",
   "execution_count": 14,
   "id": "a4d6e832",
   "metadata": {},
   "outputs": [
    {
     "name": "stdout",
     "output_type": "stream",
     "text": [
      "<class 'pandas.core.frame.DataFrame'>\n",
      "Int64Index: 16713 entries, 0 to 16714\n",
      "Data columns (total 11 columns):\n",
      " #   Column           Non-Null Count  Dtype  \n",
      "---  ------           --------------  -----  \n",
      " 0   name             16713 non-null  object \n",
      " 1   platform         16713 non-null  object \n",
      " 2   year_of_release  16713 non-null  int64  \n",
      " 3   genre            16713 non-null  object \n",
      " 4   na_sales         16713 non-null  float64\n",
      " 5   eu_sales         16713 non-null  float64\n",
      " 6   jp_sales         16713 non-null  float64\n",
      " 7   other_sales      16713 non-null  float64\n",
      " 8   critic_score     8137 non-null   float64\n",
      " 9   user_score       16713 non-null  float64\n",
      " 10  rating           9949 non-null   object \n",
      "dtypes: float64(6), int64(1), object(4)\n",
      "memory usage: 1.5+ MB\n"
     ]
    }
   ],
   "source": [
    "df_games.info()"
   ]
  },
  {
   "cell_type": "markdown",
   "id": "b7dce6b5",
   "metadata": {},
   "source": [
    "## Enriching Data"
   ]
  },
  {
   "cell_type": "markdown",
   "id": "6296108c",
   "metadata": {},
   "source": [
    "We will now calculate the total sales (the sum of sales in all regions) for each game and put these values in a separate column 'total_sales'"
   ]
  },
  {
   "cell_type": "code",
   "execution_count": 15,
   "id": "6858fdee",
   "metadata": {},
   "outputs": [
    {
     "data": {
      "text/html": [
       "<div>\n",
       "<style scoped>\n",
       "    .dataframe tbody tr th:only-of-type {\n",
       "        vertical-align: middle;\n",
       "    }\n",
       "\n",
       "    .dataframe tbody tr th {\n",
       "        vertical-align: top;\n",
       "    }\n",
       "\n",
       "    .dataframe thead th {\n",
       "        text-align: right;\n",
       "    }\n",
       "</style>\n",
       "<table border=\"1\" class=\"dataframe\">\n",
       "  <thead>\n",
       "    <tr style=\"text-align: right;\">\n",
       "      <th></th>\n",
       "      <th>name</th>\n",
       "      <th>platform</th>\n",
       "      <th>year_of_release</th>\n",
       "      <th>genre</th>\n",
       "      <th>na_sales</th>\n",
       "      <th>eu_sales</th>\n",
       "      <th>jp_sales</th>\n",
       "      <th>other_sales</th>\n",
       "      <th>critic_score</th>\n",
       "      <th>user_score</th>\n",
       "      <th>rating</th>\n",
       "      <th>total_sales</th>\n",
       "    </tr>\n",
       "  </thead>\n",
       "  <tbody>\n",
       "    <tr>\n",
       "      <th>0</th>\n",
       "      <td>Wii Sports</td>\n",
       "      <td>Wii</td>\n",
       "      <td>2006</td>\n",
       "      <td>Sports</td>\n",
       "      <td>41.36</td>\n",
       "      <td>28.96</td>\n",
       "      <td>3.77</td>\n",
       "      <td>8.45</td>\n",
       "      <td>76.0</td>\n",
       "      <td>8.0</td>\n",
       "      <td>E</td>\n",
       "      <td>82.54</td>\n",
       "    </tr>\n",
       "    <tr>\n",
       "      <th>1</th>\n",
       "      <td>Super Mario Bros.</td>\n",
       "      <td>NES</td>\n",
       "      <td>1985</td>\n",
       "      <td>Platform</td>\n",
       "      <td>29.08</td>\n",
       "      <td>3.58</td>\n",
       "      <td>6.81</td>\n",
       "      <td>0.77</td>\n",
       "      <td>NaN</td>\n",
       "      <td>0.0</td>\n",
       "      <td>NaN</td>\n",
       "      <td>40.24</td>\n",
       "    </tr>\n",
       "    <tr>\n",
       "      <th>2</th>\n",
       "      <td>Mario Kart Wii</td>\n",
       "      <td>Wii</td>\n",
       "      <td>2008</td>\n",
       "      <td>Racing</td>\n",
       "      <td>15.68</td>\n",
       "      <td>12.76</td>\n",
       "      <td>3.79</td>\n",
       "      <td>3.29</td>\n",
       "      <td>82.0</td>\n",
       "      <td>8.3</td>\n",
       "      <td>E</td>\n",
       "      <td>35.52</td>\n",
       "    </tr>\n",
       "    <tr>\n",
       "      <th>3</th>\n",
       "      <td>Wii Sports Resort</td>\n",
       "      <td>Wii</td>\n",
       "      <td>2009</td>\n",
       "      <td>Sports</td>\n",
       "      <td>15.61</td>\n",
       "      <td>10.93</td>\n",
       "      <td>3.28</td>\n",
       "      <td>2.95</td>\n",
       "      <td>80.0</td>\n",
       "      <td>8.0</td>\n",
       "      <td>E</td>\n",
       "      <td>32.77</td>\n",
       "    </tr>\n",
       "    <tr>\n",
       "      <th>4</th>\n",
       "      <td>Pokemon Red/Pokemon Blue</td>\n",
       "      <td>GB</td>\n",
       "      <td>1996</td>\n",
       "      <td>Role-Playing</td>\n",
       "      <td>11.27</td>\n",
       "      <td>8.89</td>\n",
       "      <td>10.22</td>\n",
       "      <td>1.00</td>\n",
       "      <td>NaN</td>\n",
       "      <td>0.0</td>\n",
       "      <td>NaN</td>\n",
       "      <td>31.38</td>\n",
       "    </tr>\n",
       "  </tbody>\n",
       "</table>\n",
       "</div>"
      ],
      "text/plain": [
       "                       name platform  year_of_release         genre  na_sales  \\\n",
       "0                Wii Sports      Wii             2006        Sports     41.36   \n",
       "1         Super Mario Bros.      NES             1985      Platform     29.08   \n",
       "2            Mario Kart Wii      Wii             2008        Racing     15.68   \n",
       "3         Wii Sports Resort      Wii             2009        Sports     15.61   \n",
       "4  Pokemon Red/Pokemon Blue       GB             1996  Role-Playing     11.27   \n",
       "\n",
       "   eu_sales  jp_sales  other_sales  critic_score  user_score rating  \\\n",
       "0     28.96      3.77         8.45          76.0         8.0      E   \n",
       "1      3.58      6.81         0.77           NaN         0.0    NaN   \n",
       "2     12.76      3.79         3.29          82.0         8.3      E   \n",
       "3     10.93      3.28         2.95          80.0         8.0      E   \n",
       "4      8.89     10.22         1.00           NaN         0.0    NaN   \n",
       "\n",
       "   total_sales  \n",
       "0        82.54  \n",
       "1        40.24  \n",
       "2        35.52  \n",
       "3        32.77  \n",
       "4        31.38  "
      ]
     },
     "execution_count": 15,
     "metadata": {},
     "output_type": "execute_result"
    }
   ],
   "source": [
    "df_games['total_sales'] = df_games['na_sales'] + df_games['eu_sales'] + df_games['jp_sales'] + df_games['other_sales']\n",
    "df_games.head()"
   ]
  },
  {
   "cell_type": "markdown",
   "id": "6b6630f9",
   "metadata": {},
   "source": [
    "## Analyze the Date"
   ]
  },
  {
   "cell_type": "markdown",
   "id": "e3120d76",
   "metadata": {},
   "source": [
    "Looking at how many games were released in different years to see if the data for every period is significant."
   ]
  },
  {
   "cell_type": "code",
   "execution_count": 16,
   "id": "c41dfffd",
   "metadata": {
    "scrolled": false
   },
   "outputs": [
    {
     "data": {
      "text/plain": [
       "<AxesSubplot:title={'center':'Games released per year'}, xlabel='year_of_release', ylabel='Total sales'>"
      ]
     },
     "execution_count": 16,
     "metadata": {},
     "output_type": "execute_result"
    },
    {
     "data": {
      "image/png": "[encoded data removed]",
      "text/plain": [
       "<Figure size 576x576 with 1 Axes>"
      ]
     },
     "metadata": {
      "needs_background": "light"
     },
     "output_type": "display_data"
    }
   ],
   "source": [
    "released_per_year = df_games.pivot_table(values = 'name', index = 'year_of_release', aggfunc = 'count')\n",
    "released_per_year.query('year_of_release != 0').plot(kind = 'bar',\n",
    "                                                     figsize = (8,8),\n",
    "                                                     grid = True,\n",
    "                                                     title = 'Games released per year',\n",
    "                                                     ylabel = 'Total sales')"
   ]
  },
  {
   "cell_type": "markdown",
   "id": "e6c4a988",
   "metadata": {},
   "source": [
    "Game releases have been very slow up until the early 90s, then they started to climb up and peaked at 2008-2009, and then started decreasing. A possible reason would be the the length and cost of production of triple A games (releasing few but bigger games)."
   ]
  },
  {
   "cell_type": "markdown",
   "id": "8df64c4a",
   "metadata": {},
   "source": [
    "Looking at how sales varied from platform to platform. We will choose the platforms with the greatest total sales and build a distribution based on data for each year. We will find platforms that used to be popular but now have zero sales. We will find how long does it generally take for new platforms to appear and old ones to fade"
   ]
  },
  {
   "cell_type": "code",
   "execution_count": 17,
   "id": "ee07e23a",
   "metadata": {},
   "outputs": [
    {
     "data": {
      "text/plain": [
       "<AxesSubplot:title={'center':'Total sales per platform'}, xlabel='platform', ylabel='Total sales'>"
      ]
     },
     "execution_count": 17,
     "metadata": {},
     "output_type": "execute_result"
    },
    {
     "data": {
      "image/png": "[encoded data removed]",
      "text/plain": [
       "<Figure size 576x576 with 1 Axes>"
      ]
     },
     "metadata": {
      "needs_background": "light"
     },
     "output_type": "display_data"
    }
   ],
   "source": [
    "sales_per_platform = df_games.pivot_table(values = 'total_sales', index = 'platform', aggfunc = 'sum')\n",
    "sales_per_platform.plot(kind = 'bar',figsize = (8,8), grid = True, ylabel = 'Total sales', title = 'Total sales per platform')"
   ]
  },
  {
   "cell_type": "code",
   "execution_count": 18,
   "id": "0257fdef",
   "metadata": {},
   "outputs": [
    {
     "data": {
      "text/plain": [
       "<AxesSubplot:title={'center':'Total sales per popular platforms'}, xlabel='platform'>"
      ]
     },
     "execution_count": 18,
     "metadata": {},
     "output_type": "execute_result"
    },
    {
     "data": {
      "image/png": "[encoded data removed]",
      "text/plain": [
       "<Figure size 576x576 with 1 Axes>"
      ]
     },
     "metadata": {
      "needs_background": "light"
     },
     "output_type": "display_data"
    }
   ],
   "source": [
    "sales_top_platforms = sales_per_platform.query('total_sales > 800')\n",
    "sales_top_platforms.plot(kind = 'bar',figsize = (8,8), grid = True, title = 'Total sales per popular platforms')"
   ]
  },
  {
   "cell_type": "markdown",
   "id": "3985427e",
   "metadata": {},
   "source": [
    "Here we see the top five platforms.\n",
    "Now we will use them and see their total sales per year"
   ]
  },
  {
   "cell_type": "code",
   "execution_count": 19,
   "id": "6e6e79b0",
   "metadata": {},
   "outputs": [
    {
     "data": {
      "text/plain": [
       "<AxesSubplot:title={'center':'Sales per year by platform'}, xlabel='year_of_release', ylabel='Total Sales'>"
      ]
     },
     "execution_count": 19,
     "metadata": {},
     "output_type": "execute_result"
    },
    {
     "data": {
      "image/png": "[encoded data removed]",
      "text/plain": [
       "<Figure size 864x576 with 1 Axes>"
      ]
     },
     "metadata": {
      "needs_background": "light"
     },
     "output_type": "display_data"
    }
   ],
   "source": [
    "top_plats = ['DS', 'PS2', 'PS3', 'Wii', 'X360']\n",
    "sales_top_platforms_yearly_sum = df_games.query('platform in @top_plats and year_of_release != 0').pivot_table(values = 'total_sales',\n",
    "                                                                        index = 'year_of_release',\n",
    "                                                                        columns = 'platform',\n",
    "                                                                        aggfunc = 'sum')\n",
    "sales_top_platforms_yearly_sum.plot(kind = 'bar', figsize = (12,8), ylabel = 'Total Sales', title = 'Sales per year by platform')"
   ]
  },
  {
   "cell_type": "markdown",
   "id": "79eb5d27",
   "metadata": {},
   "source": [
    "The most prominent platform of the early 2000s is PS2, that only started fading around 5 years after it's release when the competitors arrived, finally gone at 2010. The DS was an early peaker, faded at around 2013. The PS3 had a slow start due to transition from PS2 and the whopping success of the Wii, but managed to stay in the game until it's end at 2016. The Xbox360 went head-to-head with the PS3 in terms of sales, faded along with it at around 2016 after they started declining at 2011."
   ]
  },
  {
   "cell_type": "markdown",
   "id": "21c1b539",
   "metadata": {},
   "source": [
    "We will need to determine what period we should take data for. The previous data and answers should allow us to build a prognosis for 2017.\n",
    "Activity in the console war started at around 2006 with the rise of Xbox360 and PS3 and the fading of the PS2, the last reigning king.\n",
    "From the data gathered from the period of 2006-present we will try to chart a forecast for the newer generation of consoles (PS4, XboxONE, WiiU, 3DS, and the always-relevant PC) "
   ]
  },
  {
   "cell_type": "code",
   "execution_count": 20,
   "id": "c11ac20c",
   "metadata": {
    "scrolled": true
   },
   "outputs": [
    {
     "name": "stdout",
     "output_type": "stream",
     "text": [
      "<class 'pandas.core.frame.DataFrame'>\n",
      "Int64Index: 2233 entries, 16 to 16714\n",
      "Data columns (total 12 columns):\n",
      " #   Column           Non-Null Count  Dtype  \n",
      "---  ------           --------------  -----  \n",
      " 0   name             2233 non-null   object \n",
      " 1   platform         2233 non-null   object \n",
      " 2   year_of_release  2233 non-null   int64  \n",
      " 3   genre            2233 non-null   object \n",
      " 4   na_sales         2233 non-null   float64\n",
      " 5   eu_sales         2233 non-null   float64\n",
      " 6   jp_sales         2233 non-null   float64\n",
      " 7   other_sales      2233 non-null   float64\n",
      " 8   critic_score     991 non-null    float64\n",
      " 9   user_score       2233 non-null   float64\n",
      " 10  rating           1256 non-null   object \n",
      " 11  total_sales      2233 non-null   float64\n",
      "dtypes: float64(7), int64(1), object(4)\n",
      "memory usage: 226.8+ KB\n"
     ]
    }
   ],
   "source": [
    "df_late = df_games.query('year_of_release >= 2013')\n",
    "df_late.info()"
   ]
  },
  {
   "cell_type": "markdown",
   "id": "4073ff47",
   "metadata": {},
   "source": [
    "Let's see what platforms are still relevant in our new data frame and see which ones are still profitable."
   ]
  },
  {
   "cell_type": "code",
   "execution_count": 21,
   "id": "d526e5d8",
   "metadata": {},
   "outputs": [
    {
     "data": {
      "text/plain": [
       "PS4     392\n",
       "PSV     358\n",
       "PS3     345\n",
       "3DS     303\n",
       "XOne    247\n",
       "PC      189\n",
       "X360    186\n",
       "WiiU    115\n",
       "PSP      67\n",
       "Wii      23\n",
       "DS        8\n",
       "Name: platform, dtype: int64"
      ]
     },
     "execution_count": 21,
     "metadata": {},
     "output_type": "execute_result"
    }
   ],
   "source": [
    "df_late['platform'].value_counts()"
   ]
  },
  {
   "cell_type": "code",
   "execution_count": 22,
   "id": "96cf013a",
   "metadata": {},
   "outputs": [
    {
     "data": {
      "text/plain": [
       "<AxesSubplot:title={'center':'Sales per year by platform'}, xlabel='year_of_release', ylabel='Total Sales'>"
      ]
     },
     "execution_count": 22,
     "metadata": {},
     "output_type": "execute_result"
    },
    {
     "data": {
      "image/png": "[encoded data removed]",
      "text/plain": [
       "<Figure size 936x576 with 1 Axes>"
      ]
     },
     "metadata": {
      "needs_background": "light"
     },
     "output_type": "display_data"
    }
   ],
   "source": [
    "late_sales_top_platforms_yearly_sum = df_late.pivot_table(values = 'total_sales',\n",
    "                                                                        index = 'year_of_release',\n",
    "                                                                        columns = 'platform',\n",
    "                                                                        aggfunc = 'sum')\n",
    "late_sales_top_platforms_yearly_sum.plot(kind = 'line', grid = True, figsize = (13,8), ylabel = 'Total Sales', title = 'Sales per year by platform')"
   ]
  },
  {
   "cell_type": "markdown",
   "id": "f39fa65d",
   "metadata": {},
   "source": [
    "Many platforms faded into obscurity over the years, but the PS4 and XboxONE remain on top, with the 3DS not very far behind. We fill focus on those 3 as the representatives of the three big game companies and use them for future calculations of sales over the years"
   ]
  },
  {
   "cell_type": "code",
   "execution_count": 23,
   "id": "5f5b6fa7",
   "metadata": {},
   "outputs": [
    {
     "data": {
      "text/plain": [
       "<AxesSubplot:>"
      ]
     },
     "execution_count": 23,
     "metadata": {},
     "output_type": "execute_result"
    },
    {
     "data": {
      "image/png": "[encoded data removed]",
      "text/plain": [
       "<Figure size 936x576 with 1 Axes>"
      ]
     },
     "metadata": {
      "needs_background": "light"
     },
     "output_type": "display_data"
    }
   ],
   "source": [
    "big3 = ['PS4','XOne','3DS']\n",
    "big3_sales = df_late.query('platform in @big3').pivot_table(values = 'total_sales',\n",
    "                                                            index = 'year_of_release',\n",
    "                                                            columns = 'platform')\n",
    "big3_sales.plot(kind = 'box',\n",
    "                grid = True,\n",
    "                figsize = (13,8))"
   ]
  },
  {
   "cell_type": "markdown",
   "id": "169a9c3c",
   "metadata": {},
   "source": [
    "Judgding from this, the PS4 is clearly in the lead in average lifetime sales, but there is a segment of it's games that earned less than the average games in XOne, so the race is still on."
   ]
  },
  {
   "cell_type": "markdown",
   "id": "9817334c",
   "metadata": {},
   "source": [
    "Let's take a look at how user and professional reviews affect sales for one popular platform (We choose PS3). we will build a scatter plot and calculate the correlation between reviews and salesand then draw conclusions. "
   ]
  },
  {
   "cell_type": "code",
   "execution_count": 24,
   "id": "b6850c52",
   "metadata": {},
   "outputs": [
    {
     "data": {
      "text/plain": [
       "<AxesSubplot:xlabel='user_score', ylabel='total_sales'>"
      ]
     },
     "execution_count": 24,
     "metadata": {},
     "output_type": "execute_result"
    },
    {
     "data": {
      "image/png": "[encoded data removed]",
      "text/plain": [
       "<Figure size 432x288 with 1 Axes>"
      ]
     },
     "metadata": {
      "needs_background": "light"
     },
     "output_type": "display_data"
    }
   ],
   "source": [
    "df_ps3 = df_games.query('platform == \"PS3\" and user_score != 0')\n",
    "df_ps3.plot.scatter(x='user_score', y='total_sales')"
   ]
  },
  {
   "cell_type": "code",
   "execution_count": 34,
   "id": "8ad453af",
   "metadata": {},
   "outputs": [
    {
     "data": {
      "text/plain": [
       "<AxesSubplot:xlabel='user_score', ylabel='total_sales'>"
      ]
     },
     "execution_count": 34,
     "metadata": {},
     "output_type": "execute_result"
    },
    {
     "data": {
      "image/png": "[encoded data removed]",
      "text/plain": [
       "<Figure size 432x288 with 1 Axes>"
      ]
     },
     "metadata": {
      "needs_background": "light"
     },
     "output_type": "display_data"
    }
   ],
   "source": [
    "# Reviewer's code\n",
    "df_ps3.plot.scatter(x='user_score', y='total_sales', alpha=0.1)"
   ]
  },
  {
   "cell_type": "markdown",
   "id": "07e4ef70",
   "metadata": {},
   "source": [
    "We are ignoring 'user_scores' of 0 because they were set by us (there were no 0s in 'user_score' before it).\n",
    "There is a small rise in sales with the 'user_score', and we will now plot a correlation matrix to confirm it along with other factors"
   ]
  },
  {
   "cell_type": "code",
   "execution_count": 25,
   "id": "50fcb79c",
   "metadata": {},
   "outputs": [
    {
     "data": {
      "text/html": [
       "<div>\n",
       "<style scoped>\n",
       "    .dataframe tbody tr th:only-of-type {\n",
       "        vertical-align: middle;\n",
       "    }\n",
       "\n",
       "    .dataframe tbody tr th {\n",
       "        vertical-align: top;\n",
       "    }\n",
       "\n",
       "    .dataframe thead th {\n",
       "        text-align: right;\n",
       "    }\n",
       "</style>\n",
       "<table border=\"1\" class=\"dataframe\">\n",
       "  <thead>\n",
       "    <tr style=\"text-align: right;\">\n",
       "      <th></th>\n",
       "      <th>year_of_release</th>\n",
       "      <th>na_sales</th>\n",
       "      <th>eu_sales</th>\n",
       "      <th>jp_sales</th>\n",
       "      <th>other_sales</th>\n",
       "      <th>critic_score</th>\n",
       "      <th>user_score</th>\n",
       "      <th>total_sales</th>\n",
       "    </tr>\n",
       "  </thead>\n",
       "  <tbody>\n",
       "    <tr>\n",
       "      <th>year_of_release</th>\n",
       "      <td>1.000000</td>\n",
       "      <td>0.041469</td>\n",
       "      <td>0.033480</td>\n",
       "      <td>0.022297</td>\n",
       "      <td>0.040331</td>\n",
       "      <td>0.046031</td>\n",
       "      <td>-0.036507</td>\n",
       "      <td>0.040083</td>\n",
       "    </tr>\n",
       "    <tr>\n",
       "      <th>na_sales</th>\n",
       "      <td>0.041469</td>\n",
       "      <td>1.000000</td>\n",
       "      <td>0.816030</td>\n",
       "      <td>0.367313</td>\n",
       "      <td>0.871531</td>\n",
       "      <td>0.450681</td>\n",
       "      <td>0.137144</td>\n",
       "      <td>0.937639</td>\n",
       "    </tr>\n",
       "    <tr>\n",
       "      <th>eu_sales</th>\n",
       "      <td>0.033480</td>\n",
       "      <td>0.816030</td>\n",
       "      <td>1.000000</td>\n",
       "      <td>0.404824</td>\n",
       "      <td>0.973867</td>\n",
       "      <td>0.376543</td>\n",
       "      <td>0.084722</td>\n",
       "      <td>0.959079</td>\n",
       "    </tr>\n",
       "    <tr>\n",
       "      <th>jp_sales</th>\n",
       "      <td>0.022297</td>\n",
       "      <td>0.367313</td>\n",
       "      <td>0.404824</td>\n",
       "      <td>1.000000</td>\n",
       "      <td>0.407136</td>\n",
       "      <td>0.195761</td>\n",
       "      <td>0.170002</td>\n",
       "      <td>0.483455</td>\n",
       "    </tr>\n",
       "    <tr>\n",
       "      <th>other_sales</th>\n",
       "      <td>0.040331</td>\n",
       "      <td>0.871531</td>\n",
       "      <td>0.973867</td>\n",
       "      <td>0.407136</td>\n",
       "      <td>1.000000</td>\n",
       "      <td>0.390825</td>\n",
       "      <td>0.110032</td>\n",
       "      <td>0.975696</td>\n",
       "    </tr>\n",
       "    <tr>\n",
       "      <th>critic_score</th>\n",
       "      <td>0.046031</td>\n",
       "      <td>0.450681</td>\n",
       "      <td>0.376543</td>\n",
       "      <td>0.195761</td>\n",
       "      <td>0.390825</td>\n",
       "      <td>1.000000</td>\n",
       "      <td>0.629005</td>\n",
       "      <td>0.427875</td>\n",
       "    </tr>\n",
       "    <tr>\n",
       "      <th>user_score</th>\n",
       "      <td>-0.036507</td>\n",
       "      <td>0.137144</td>\n",
       "      <td>0.084722</td>\n",
       "      <td>0.170002</td>\n",
       "      <td>0.110032</td>\n",
       "      <td>0.629005</td>\n",
       "      <td>1.000000</td>\n",
       "      <td>0.126691</td>\n",
       "    </tr>\n",
       "    <tr>\n",
       "      <th>total_sales</th>\n",
       "      <td>0.040083</td>\n",
       "      <td>0.937639</td>\n",
       "      <td>0.959079</td>\n",
       "      <td>0.483455</td>\n",
       "      <td>0.975696</td>\n",
       "      <td>0.427875</td>\n",
       "      <td>0.126691</td>\n",
       "      <td>1.000000</td>\n",
       "    </tr>\n",
       "  </tbody>\n",
       "</table>\n",
       "</div>"
      ],
      "text/plain": [
       "                 year_of_release  na_sales  eu_sales  jp_sales  other_sales  \\\n",
       "year_of_release         1.000000  0.041469  0.033480  0.022297     0.040331   \n",
       "na_sales                0.041469  1.000000  0.816030  0.367313     0.871531   \n",
       "eu_sales                0.033480  0.816030  1.000000  0.404824     0.973867   \n",
       "jp_sales                0.022297  0.367313  0.404824  1.000000     0.407136   \n",
       "other_sales             0.040331  0.871531  0.973867  0.407136     1.000000   \n",
       "critic_score            0.046031  0.450681  0.376543  0.195761     0.390825   \n",
       "user_score             -0.036507  0.137144  0.084722  0.170002     0.110032   \n",
       "total_sales             0.040083  0.937639  0.959079  0.483455     0.975696   \n",
       "\n",
       "                 critic_score  user_score  total_sales  \n",
       "year_of_release      0.046031   -0.036507     0.040083  \n",
       "na_sales             0.450681    0.137144     0.937639  \n",
       "eu_sales             0.376543    0.084722     0.959079  \n",
       "jp_sales             0.195761    0.170002     0.483455  \n",
       "other_sales          0.390825    0.110032     0.975696  \n",
       "critic_score         1.000000    0.629005     0.427875  \n",
       "user_score           0.629005    1.000000     0.126691  \n",
       "total_sales          0.427875    0.126691     1.000000  "
      ]
     },
     "execution_count": 25,
     "metadata": {},
     "output_type": "execute_result"
    }
   ],
   "source": [
    "df_ps3.corr()"
   ]
  },
  {
   "cell_type": "markdown",
   "id": "588254a2",
   "metadata": {},
   "source": [
    "Surprisigly, 'user_score' barely factors into  'total_sales'. \n",
    "The 'critic_score' has a slightly bigger effect since these scores usually come really close to the release date, and this is what most customers tend to look at when trying to decide on a purchase."
   ]
  },
  {
   "cell_type": "markdown",
   "id": "4a14f5d7",
   "metadata": {},
   "source": [
    "Keeping our conclusions in mind, comparing the sales of the same games on other platforms. "
   ]
  },
  {
   "cell_type": "code",
   "execution_count": 26,
   "id": "2e0e47b3",
   "metadata": {},
   "outputs": [
    {
     "name": "stdout",
     "output_type": "stream",
     "text": [
      "Disney Infinity                       3\n",
      "Skylanders: Trap Team                 3\n",
      "Young Justice: Legacy                 3\n",
      "Just Dance 2015                       3\n",
      "How to Train Your Dragon 2            3\n",
      "                                     ..\n",
      "Jikkyou Powerful Pro Baseball 2016    1\n",
      "Deception IV: Blood Ties              1\n",
      "Persona 5                             1\n",
      "Samurai Warriors 4-II                 1\n",
      "Samurai Warriors: Sanada Maru         1\n",
      "Name: name, Length: 297, dtype: int64\n"
     ]
    },
    {
     "data": {
      "text/plain": [
       "<AxesSubplot:xlabel='platform', ylabel='Total sales'>"
      ]
     },
     "execution_count": 26,
     "metadata": {},
     "output_type": "execute_result"
    },
    {
     "data": {
      "image/png": "[encoded data removed]",
      "text/plain": [
       "<Figure size 864x576 with 1 Axes>"
      ]
     },
     "metadata": {
      "needs_background": "light"
     },
     "output_type": "display_data"
    }
   ],
   "source": [
    "gen3_plats = ['PS3','Wii', 'X360']\n",
    "df_dups = df_late[df_late['name'].duplicated(keep = False)].query('platform in @gen3_plats')\n",
    "print(df_dups['name'].value_counts())\n",
    "\n",
    "#We pick 3 games out of the list:\n",
    "multiplat_games = ['Disney Infinity', 'Skylanders: Trap Team', 'Young Justice: Legacy']\n",
    "\n",
    "sales_multiplat_slice = df_dups.query('name in @multiplat_games').pivot_table(values = 'total_sales',\n",
    "                                                                        index = 'platform',\n",
    "                                                                        columns = 'name',\n",
    "                                                                        aggfunc = 'sum')\n",
    "sales_multiplat_slice.plot(kind = 'bar', figsize = (12,8), grid = True, ylabel = 'Total sales')\n"
   ]
  },
  {
   "cell_type": "markdown",
   "id": "3d8a847b",
   "metadata": {},
   "source": [
    "Overall by the sample games we took, it looks like the same games sell much better on the Wii or X360 than on the PS3. The game 'Young Justice: Legacy' did sell better on the PS3, but not by alot. Might be related to the target playerbase of each console."
   ]
  },
  {
   "cell_type": "markdown",
   "id": "edd14225",
   "metadata": {},
   "source": [
    "Taking a look at the general distribution of games by genre. What can we say about the most profitable genres? Let's try to generalize about genres with high and low sales"
   ]
  },
  {
   "cell_type": "code",
   "execution_count": 27,
   "id": "525b4d60",
   "metadata": {},
   "outputs": [
    {
     "data": {
      "text/plain": [
       "Action          766\n",
       "Role-Playing    292\n",
       "Adventure       245\n",
       "Sports          214\n",
       "Shooter         187\n",
       "Misc            155\n",
       "Racing           85\n",
       "Fighting         80\n",
       "Platform         74\n",
       "Simulation       62\n",
       "Strategy         56\n",
       "Puzzle           17\n",
       "Name: genre, dtype: int64"
      ]
     },
     "execution_count": 27,
     "metadata": {},
     "output_type": "execute_result"
    },
    {
     "data": {
      "image/png": "[encoded data removed]",
      "text/plain": [
       "<Figure size 792x360 with 1 Axes>"
      ]
     },
     "metadata": {
      "needs_background": "light"
     },
     "output_type": "display_data"
    },
    {
     "data": {
      "image/png": "[encoded data removed]",
      "text/plain": [
       "<Figure size 792x360 with 1 Axes>"
      ]
     },
     "metadata": {
      "needs_background": "light"
     },
     "output_type": "display_data"
    }
   ],
   "source": [
    "df_genre_mean = df_late.pivot_table(values = 'total_sales', index = 'genre', aggfunc = 'sum')\n",
    "df_genre_mean.plot(kind = 'bar', figsize = (11,5), title = 'Total sales per genre')\n",
    "\n",
    "df_genre_total = df_late.pivot_table(values = 'total_sales', index = 'genre', aggfunc = 'mean')\n",
    "df_genre_total.plot(kind = 'bar', figsize = (11,5), title = 'Average total sales per genre')\n",
    "\n",
    "df_late['genre'].value_counts()"
   ]
  },
  {
   "cell_type": "markdown",
   "id": "113410c6",
   "metadata": {},
   "source": [
    "There are alot more games in the Action genre, therefore it is logical that it will have higher income in total.\n",
    "But on average it pales in comparison to the average total sales of Shooter games, where each game in popular franchises can become a huge success in a very short time, due to their name alone"
   ]
  },
  {
   "cell_type": "markdown",
   "id": "51ee22e6",
   "metadata": {},
   "source": [
    "## Profiling"
   ]
  },
  {
   "cell_type": "markdown",
   "id": "97e15d69",
   "metadata": {},
   "source": [
    "In this section, for each region (NA, EU, JP), we will determine:\n",
    "1. The top five platforms, and determine variations in their market shares from region to region.\n",
    "2. The top five genres, and explain the difference.\n",
    "3. We will answer the question, do ESRB ratings affect sales in individual regions?"
   ]
  },
  {
   "cell_type": "code",
   "execution_count": 28,
   "id": "fba89fa0",
   "metadata": {},
   "outputs": [
    {
     "data": {
      "image/png": "[encoded data removed]",
      "text/plain": [
       "<Figure size 576x576 with 1 Axes>"
      ]
     },
     "metadata": {
      "needs_background": "light"
     },
     "output_type": "display_data"
    },
    {
     "data": {
      "image/png": "[encoded data removed]",
      "text/plain": [
       "<Figure size 576x576 with 1 Axes>"
      ]
     },
     "metadata": {
      "needs_background": "light"
     },
     "output_type": "display_data"
    },
    {
     "data": {
      "image/png": "[encoded data removed]",
      "text/plain": [
       "<Figure size 576x576 with 1 Axes>"
      ]
     },
     "metadata": {
      "needs_background": "light"
     },
     "output_type": "display_data"
    }
   ],
   "source": [
    "region_sales = ['na_sales', 'eu_sales', 'jp_sales']\n",
    "for region in region_sales:\n",
    "    plotted_table = df_late.pivot_table(values = region, index = 'platform', aggfunc = 'sum')\n",
    "    plotted_table.plot(kind = 'bar',figsize = (8,8), grid = True)\n",
    "\n",
    "#We will choose the top 5 platforms in each region, and check their market shares"
   ]
  },
  {
   "cell_type": "code",
   "execution_count": 29,
   "id": "b91c41ab",
   "metadata": {},
   "outputs": [
    {
     "data": {
      "text/plain": [
       "<AxesSubplot:title={'center':'Top platform shares in JP'}, ylabel='jp_sales'>"
      ]
     },
     "execution_count": 29,
     "metadata": {},
     "output_type": "execute_result"
    },
    {
     "data": {
      "image/png": "[encoded data removed]",
      "text/plain": [
       "<Figure size 576x576 with 1 Axes>"
      ]
     },
     "metadata": {},
     "output_type": "display_data"
    },
    {
     "data": {
      "image/png": "[encoded data removed]",
      "text/plain": [
       "<Figure size 576x576 with 1 Axes>"
      ]
     },
     "metadata": {},
     "output_type": "display_data"
    },
    {
     "data": {
      "image/png": "[encoded data removed]",
      "text/plain": [
       "<Figure size 576x576 with 1 Axes>"
      ]
     },
     "metadata": {},
     "output_type": "display_data"
    }
   ],
   "source": [
    "na_top5 = ['PS4', 'XOne', 'X360', 'PS3', '3DS']\n",
    "na_table = df_late.pivot_table(values = 'na_sales', index = 'platform', aggfunc = 'sum').query('platform in @na_top5')\n",
    "na_table.plot(kind = 'pie', y = 'na_sales', figsize = (8,8), title = 'Top platform shares in NA')\n",
    "\n",
    "eu_top5 = ['PS4', 'XOne', 'X360', 'PS3', '3DS']\n",
    "eu_table = df_late.pivot_table(values = 'eu_sales', index = 'platform', aggfunc = 'sum').query('platform in @eu_top5')\n",
    "eu_table.plot(kind = 'pie', y = 'eu_sales', figsize = (8,8), title = 'Top platform shares in EU')\n",
    "\n",
    "jp_top5 = ['PS4', 'PSV', 'WiiU', 'PS3', '3DS']\n",
    "jp_table = df_late.pivot_table(values = 'jp_sales', index = 'platform', aggfunc = 'sum').query('platform in @jp_top5')\n",
    "jp_table.plot(kind = 'pie', y = 'jp_sales', figsize = (8,8), title = 'Top platform shares in JP')"
   ]
  },
  {
   "cell_type": "markdown",
   "id": "badfb1d2",
   "metadata": {},
   "source": [
    "By looking at the pie charts we can reach various conclusions. \n",
    "1. In NA, the 2 heavy hitters (Sony and Microsft are pitting their flagship platforms against each other in very close contest; the PS4 sells a little better than the XOne, and below them the PS3 sells just a little better than the X360. After them is the 3DS, as it has a firm hold over the handheld market. \n",
    "2. In EU the PS4 is dominating the cntest, as the XOne and X360 combined can't hold a candle to the PS4's share of the market, not to mention the it's combined might with the PS3. Interestingly, the 3DS holds a similar share as in NA.\n",
    "3. In JP on the other hand the market is different. the 3DS reigns supreme as it holds nearly 50% of the shares, dwarfing Sony's consoles the PS4, the PS3 and the surprising contender the PSV, which was known to have very little success worldwide, especially in the west. Even the WiiU, a famous commercial failure, makes an appearance in the top 5. All top 5 consoles in JP are Japanese in origin. Is the japanese audience technologically xenophobic?.\n",
    "\n",
    "Our overall conclusion for this part is that in JP there is barely any presence of western consoles, while the west has a shared market of both western and japanese consoles. When marketing games to Japanese audiences it will be wise to not release them on any western platforms (XOne/X360)."
   ]
  },
  {
   "cell_type": "markdown",
   "id": "855349de",
   "metadata": {},
   "source": [
    "Now we find the top five genres for each region, and explain the difference."
   ]
  },
  {
   "cell_type": "code",
   "execution_count": 30,
   "id": "8401921f",
   "metadata": {
    "scrolled": false
   },
   "outputs": [
    {
     "name": "stdout",
     "output_type": "stream",
     "text": [
      "Action          766\n",
      "Role-Playing    292\n",
      "Adventure       245\n",
      "Sports          214\n",
      "Shooter         187\n",
      "Misc            155\n",
      "Racing           85\n",
      "Fighting         80\n",
      "Platform         74\n",
      "Simulation       62\n",
      "Strategy         56\n",
      "Puzzle           17\n",
      "Name: genre, dtype: int64\n"
     ]
    },
    {
     "data": {
      "image/png": "[encoded data removed]",
      "text/plain": [
       "<Figure size 576x576 with 1 Axes>"
      ]
     },
     "metadata": {
      "needs_background": "light"
     },
     "output_type": "display_data"
    },
    {
     "data": {
      "image/png": "[encoded data removed]",
      "text/plain": [
       "<Figure size 576x576 with 1 Axes>"
      ]
     },
     "metadata": {
      "needs_background": "light"
     },
     "output_type": "display_data"
    },
    {
     "data": {
      "image/png": "[encoded data removed]",
      "text/plain": [
       "<Figure size 576x576 with 1 Axes>"
      ]
     },
     "metadata": {
      "needs_background": "light"
     },
     "output_type": "display_data"
    }
   ],
   "source": [
    "print(df_late['genre'].value_counts())\n",
    "for region in region_sales:\n",
    "    plotted_table = df_late.pivot_table(values = region, index = 'genre', aggfunc = 'sum')\n",
    "    plotted_table.plot(kind = 'bar',figsize = (8,8), grid = True)"
   ]
  },
  {
   "cell_type": "markdown",
   "id": "768fd61e",
   "metadata": {},
   "source": [
    "We can conclude that the NA and EU sales by genres show nearly identical picture of the leading genres. their top 5 genres in descending order: Action, Shooter, Sports, Role Playing, Misc.\n",
    "The JP sales show a very different picture, with Role Playing games sweeping the board, followed by Action, and then Misc, Sports and Platform far below it.\n",
    "In the west, Adventure games are surprisingly unsuccessful when considering they are 3rd in number after the many action games. \n",
    "The huge popularity of Roleplaying games in JP could be related to the strong market of JRPGs in JP, where many such games never even reach the west."
   ]
  },
  {
   "cell_type": "markdown",
   "id": "a58e2537",
   "metadata": {},
   "source": [
    "Now we will answer the question, do ESRB ratings affect sales in each of the three regions?"
   ]
  },
  {
   "cell_type": "code",
   "execution_count": 31,
   "id": "9589a634",
   "metadata": {},
   "outputs": [
    {
     "data": {
      "image/png": "[encoded data removed]",
      "text/plain": [
       "<Figure size 576x576 with 1 Axes>"
      ]
     },
     "metadata": {
      "needs_background": "light"
     },
     "output_type": "display_data"
    },
    {
     "data": {
      "image/png": "[encoded data removed]",
      "text/plain": [
       "<Figure size 576x576 with 1 Axes>"
      ]
     },
     "metadata": {
      "needs_background": "light"
     },
     "output_type": "display_data"
    },
    {
     "data": {
      "image/png": "[encoded data removed]",
      "text/plain": [
       "<Figure size 576x576 with 1 Axes>"
      ]
     },
     "metadata": {
      "needs_background": "light"
     },
     "output_type": "display_data"
    }
   ],
   "source": [
    "for region in region_sales:\n",
    "    plotted_table = df_late.pivot_table(values = region, index = 'rating', aggfunc = 'sum')\n",
    "    plotted_table.plot(kind = 'bar',figsize = (8,8), grid = True)"
   ]
  },
  {
   "cell_type": "markdown",
   "id": "f3fe76e4",
   "metadata": {},
   "source": [
    "The answe is mixedr. The NA and EU once again show us a similar picture of the sales when grouped by ratings.\n",
    "The western audience mostly buys games that are rated M (mature) or E (everyone).\n",
    "The odd one out is once again JP, where the major income comes from selling games rated T (for teen) and the games rated M a just a little below E games.\n",
    "When marketing games to JP audiences it would be wise to aim for more inclusive (young) ratings."
   ]
  },
  {
   "cell_type": "markdown",
   "id": "78842119",
   "metadata": {},
   "source": [
    "## Testing various hypotheses"
   ]
  },
  {
   "cell_type": "markdown",
   "id": "48015a2c",
   "metadata": {},
   "source": [
    "We will now test to see if whetever a game is on PC on Xbox One affects the user rating in a signiciant way. The user rating is the only metric the shows the opinion of audience towards games, So it will be wise to see how well received or games in general on different platforms. \n",
    "\n",
    "    H0: Average user ratings of the Xbox One and PC platforms are the same.\n",
    "    H1: Average user ratings of the Xbox One and PC platforms are different."
   ]
  },
  {
   "cell_type": "code",
   "execution_count": 32,
   "id": "bfac08bc",
   "metadata": {},
   "outputs": [
    {
     "name": "stdout",
     "output_type": "stream",
     "text": [
      "p-value: 0.14012658403611647\n",
      "We can't reject the null hypothesis\n"
     ]
    }
   ],
   "source": [
    "# Test the hypothesis\n",
    "userratings_pc_x1 = st.ttest_ind(\n",
    "                       df_late.query('platform == \"PC\" and user_score != 0')['user_score'],\n",
    "                       df_late.query('platform == \"XOne\" and user_score != 0')['user_score'],\n",
    ")\n",
    "\n",
    "alpha = 0.05\n",
    "\n",
    "print('p-value:',userratings_pc_x1.pvalue)\n",
    "\n",
    "if (userratings_pc_x1.pvalue < alpha):\n",
    "    print(\"We reject the null hypothesis\")\n",
    "else:\n",
    "    print(\"We can't reject the null hypothesis\")"
   ]
  },
  {
   "cell_type": "markdown",
   "id": "bd3663c7",
   "metadata": {},
   "source": [
    "The p-value is above the 5% alpha we set,  which means that we can't reject the hypothesis of the means being equal. \n",
    "Maybe there are many games that are exclusive to PC and XOne, thus homogenizing the ratings (such as games from studios under Microsoft flag)? \n",
    "By switching the platforms in the queries one can easily pit different platforms in the same test. "
   ]
  },
  {
   "cell_type": "markdown",
   "id": "6c931d7b",
   "metadata": {},
   "source": [
    "We will now test to see if whetever a game's genre (Action of Sports) affects the user rating in a signiciant way. The user rating is the only metric the shows the opinion of audience towards games, So it will be wise to see how well received or games in general on different genres. \n",
    "\n",
    "    H0: Average user ratings for the Action and Sports genres are the same.\n",
    "    H1: Average user ratings for the Action and Sports genres are different."
   ]
  },
  {
   "cell_type": "code",
   "execution_count": 33,
   "id": "3b3ec897",
   "metadata": {},
   "outputs": [
    {
     "name": "stdout",
     "output_type": "stream",
     "text": [
      "p-value: 1.0517832389140023e-27\n",
      "We reject the null hypothesis\n"
     ]
    }
   ],
   "source": [
    "# Test the hypothesis\n",
    "userratings_act_sports = st.ttest_ind(\n",
    "                       df_late.query('genre == \"Action\" and user_score != 0')['user_score'],\n",
    "                       df_late.query('genre == \"Sports\" and user_score != 0')['user_score'],\n",
    ")\n",
    "\n",
    "alpha = 0.05\n",
    "\n",
    "print('p-value:',userratings_act_sports.pvalue)\n",
    "\n",
    "if (userratings_act_sports.pvalue < alpha):\n",
    "    print(\"We reject the null hypothesis\")\n",
    "else:\n",
    "    print(\"We can't reject the null hypothesis\")"
   ]
  },
  {
   "cell_type": "markdown",
   "id": "7cd09a3b",
   "metadata": {},
   "source": [
    "The p-value is very far below the 5% alpha we set,  which means the mean of user ratings of those two genres is not equal. Games from different genres are accepted differently among their playerbase, It may be wise to take to heart the desires of different genre playbases when releasing games for those different genres (for example, maybe graphics means less for Sports games players?)."
   ]
  },
  {
   "cell_type": "markdown",
   "id": "e683fa4c",
   "metadata": {},
   "source": [
    "## General Conclusion"
   ]
  },
  {
   "cell_type": "markdown",
   "id": "ddb984dd",
   "metadata": {},
   "source": [
    "Much can be said about the sales of different games, from different genres, on different platforms over different years.\n",
    "Some important conclusions we came up with during the research include but are not limited to:\n",
    "Critic and user scores factor very little into the sales of games, while region, platforms and genres factor strongly into the sales\n",
    "\n",
    "Trends and patterns shouldn't be ignored. New platforms come and go in waves, with one's success partly riding on it's predecessor (been a while since Nintendo released a console since the 3DS/WiiU, one can only wonder what they have up their sleeve for 2017 to Switch things up).\n",
    "\n",
    "When selling games, one must take into account the wants and needs of their audiences. Genres that are unpopular in the west might sweep the board in the east, and consoles that are piling up dust in the east are leading the charts in the west.\n",
    "In the west you can't go wrong with a new Action or Shooter game, and in the east it will be easy to sell a new RPG."
   ]
  }
 ],
 "metadata": {
  "ExecuteTimeLog": [
   {
    "duration": 1004,
    "start_time": "2022-02-20T11:13:53.899Z"
   },
   {
    "duration": 225,
    "start_time": "2022-02-20T11:13:54.905Z"
   },
   {
    "duration": 23,
    "start_time": "2022-02-20T11:13:55.132Z"
   },
   {
    "duration": 12,
    "start_time": "2022-02-20T11:13:55.157Z"
   },
   {
    "duration": 23,
    "start_time": "2022-02-20T11:13:55.171Z"
   },
   {
    "duration": 38,
    "start_time": "2022-02-20T11:13:55.195Z"
   },
   {
    "duration": 4,
    "start_time": "2022-02-20T11:13:55.234Z"
   },
   {
    "duration": 21,
    "start_time": "2022-02-20T11:13:55.240Z"
   },
   {
    "duration": 6,
    "start_time": "2022-02-20T11:13:55.263Z"
   },
   {
    "duration": 5,
    "start_time": "2022-02-20T11:13:55.270Z"
   },
   {
    "duration": 20,
    "start_time": "2022-02-20T11:13:55.277Z"
   },
   {
    "duration": 38,
    "start_time": "2022-02-20T11:13:55.299Z"
   },
   {
    "duration": 11,
    "start_time": "2022-02-20T11:13:55.338Z"
   },
   {
    "duration": 14,
    "start_time": "2022-02-20T11:13:55.350Z"
   },
   {
    "duration": 570,
    "start_time": "2022-02-20T11:13:55.365Z"
   },
   {
    "duration": 415,
    "start_time": "2022-02-20T11:13:55.522Z"
   },
   {
    "duration": 412,
    "start_time": "2022-02-20T11:13:55.526Z"
   },
   {
    "duration": 410,
    "start_time": "2022-02-20T11:13:55.529Z"
   },
   {
    "duration": 408,
    "start_time": "2022-02-20T11:13:55.532Z"
   },
   {
    "duration": 405,
    "start_time": "2022-02-20T11:13:55.536Z"
   },
   {
    "duration": 403,
    "start_time": "2022-02-20T11:13:55.539Z"
   },
   {
    "duration": 401,
    "start_time": "2022-02-20T11:13:55.541Z"
   },
   {
    "duration": 400,
    "start_time": "2022-02-20T11:13:55.544Z"
   },
   {
    "duration": 398,
    "start_time": "2022-02-20T11:13:55.546Z"
   },
   {
    "duration": 395,
    "start_time": "2022-02-20T11:13:55.550Z"
   },
   {
    "duration": 380,
    "start_time": "2022-02-20T11:13:55.566Z"
   },
   {
    "duration": 376,
    "start_time": "2022-02-20T11:13:55.571Z"
   },
   {
    "duration": 373,
    "start_time": "2022-02-20T11:13:55.575Z"
   },
   {
    "duration": 371,
    "start_time": "2022-02-20T11:13:55.577Z"
   },
   {
    "duration": 370,
    "start_time": "2022-02-20T11:13:55.579Z"
   },
   {
    "duration": 369,
    "start_time": "2022-02-20T11:13:55.581Z"
   },
   {
    "duration": 365,
    "start_time": "2022-02-20T11:13:55.586Z"
   },
   {
    "duration": 41157,
    "start_time": "2022-02-20T11:14:14.290Z"
   },
   {
    "duration": 11120,
    "start_time": "2022-02-20T15:28:08.787Z"
   },
   {
    "duration": 11046,
    "start_time": "2022-02-20T15:30:22.075Z"
   },
   {
    "duration": 110601,
    "start_time": "2022-02-20T15:30:39.238Z"
   },
   {
    "duration": 243,
    "start_time": "2022-02-20T15:32:37.114Z"
   },
   {
    "duration": 401,
    "start_time": "2022-02-20T15:32:36.958Z"
   },
   {
    "duration": 397,
    "start_time": "2022-02-20T15:32:36.963Z"
   },
   {
    "duration": 334,
    "start_time": "2022-02-20T15:32:37.027Z"
   },
   {
    "duration": 332,
    "start_time": "2022-02-20T15:32:37.030Z"
   },
   {
    "duration": 329,
    "start_time": "2022-02-20T15:32:37.034Z"
   },
   {
    "duration": 326,
    "start_time": "2022-02-20T15:32:37.038Z"
   },
   {
    "duration": 322,
    "start_time": "2022-02-20T15:32:37.043Z"
   },
   {
    "duration": 319,
    "start_time": "2022-02-20T15:32:37.048Z"
   },
   {
    "duration": 317,
    "start_time": "2022-02-20T15:32:37.051Z"
   },
   {
    "duration": 316,
    "start_time": "2022-02-20T15:32:37.053Z"
   },
   {
    "duration": 314,
    "start_time": "2022-02-20T15:32:37.056Z"
   },
   {
    "duration": 312,
    "start_time": "2022-02-20T15:32:37.059Z"
   },
   {
    "duration": 310,
    "start_time": "2022-02-20T15:32:37.062Z"
   },
   {
    "duration": 308,
    "start_time": "2022-02-20T15:32:37.065Z"
   },
   {
    "duration": 305,
    "start_time": "2022-02-20T15:32:37.069Z"
   },
   {
    "duration": 303,
    "start_time": "2022-02-20T15:32:37.072Z"
   },
   {
    "duration": 301,
    "start_time": "2022-02-20T15:32:37.075Z"
   },
   {
    "duration": 298,
    "start_time": "2022-02-20T15:32:37.079Z"
   },
   {
    "duration": 295,
    "start_time": "2022-02-20T15:32:37.083Z"
   },
   {
    "duration": 292,
    "start_time": "2022-02-20T15:32:37.087Z"
   },
   {
    "duration": 173,
    "start_time": "2022-02-20T15:32:37.390Z"
   },
   {
    "duration": 422,
    "start_time": "2022-02-20T15:32:37.143Z"
   },
   {
    "duration": 420,
    "start_time": "2022-02-20T15:32:37.146Z"
   },
   {
    "duration": 418,
    "start_time": "2022-02-20T15:32:37.149Z"
   },
   {
    "duration": 416,
    "start_time": "2022-02-20T15:32:37.152Z"
   },
   {
    "duration": 414,
    "start_time": "2022-02-20T15:32:37.155Z"
   },
   {
    "duration": 411,
    "start_time": "2022-02-20T15:32:37.159Z"
   },
   {
    "duration": 407,
    "start_time": "2022-02-20T15:32:37.164Z"
   },
   {
    "duration": 404,
    "start_time": "2022-02-20T15:32:37.168Z"
   },
   {
    "duration": 178,
    "start_time": "2022-02-20T15:32:47.412Z"
   },
   {
    "duration": 21,
    "start_time": "2022-02-20T15:32:47.592Z"
   },
   {
    "duration": 11,
    "start_time": "2022-02-20T15:32:47.615Z"
   },
   {
    "duration": 22,
    "start_time": "2022-02-20T15:32:47.628Z"
   },
   {
    "duration": 19,
    "start_time": "2022-02-20T15:32:47.652Z"
   },
   {
    "duration": 3,
    "start_time": "2022-02-20T15:32:47.673Z"
   },
   {
    "duration": 22,
    "start_time": "2022-02-20T15:32:47.678Z"
   },
   {
    "duration": 31,
    "start_time": "2022-02-20T15:32:47.701Z"
   },
   {
    "duration": 4,
    "start_time": "2022-02-20T15:32:47.735Z"
   },
   {
    "duration": 21,
    "start_time": "2022-02-20T15:32:47.741Z"
   },
   {
    "duration": 9,
    "start_time": "2022-02-20T15:32:47.763Z"
   },
   {
    "duration": 9,
    "start_time": "2022-02-20T15:32:47.774Z"
   },
   {
    "duration": 12,
    "start_time": "2022-02-20T15:32:47.785Z"
   },
   {
    "duration": 546,
    "start_time": "2022-02-20T15:32:47.798Z"
   },
   {
    "duration": 475,
    "start_time": "2022-02-20T15:32:47.871Z"
   },
   {
    "duration": 472,
    "start_time": "2022-02-20T15:32:47.875Z"
   },
   {
    "duration": 471,
    "start_time": "2022-02-20T15:32:47.877Z"
   },
   {
    "duration": 470,
    "start_time": "2022-02-20T15:32:47.879Z"
   },
   {
    "duration": 468,
    "start_time": "2022-02-20T15:32:47.882Z"
   },
   {
    "duration": 466,
    "start_time": "2022-02-20T15:32:47.885Z"
   },
   {
    "duration": 463,
    "start_time": "2022-02-20T15:32:47.888Z"
   },
   {
    "duration": 462,
    "start_time": "2022-02-20T15:32:47.890Z"
   },
   {
    "duration": 462,
    "start_time": "2022-02-20T15:32:47.892Z"
   },
   {
    "duration": 459,
    "start_time": "2022-02-20T15:32:47.895Z"
   },
   {
    "duration": 457,
    "start_time": "2022-02-20T15:32:47.898Z"
   },
   {
    "duration": 455,
    "start_time": "2022-02-20T15:32:47.901Z"
   },
   {
    "duration": 454,
    "start_time": "2022-02-20T15:32:47.903Z"
   },
   {
    "duration": 452,
    "start_time": "2022-02-20T15:32:47.906Z"
   },
   {
    "duration": 451,
    "start_time": "2022-02-20T15:32:47.908Z"
   },
   {
    "duration": 449,
    "start_time": "2022-02-20T15:32:47.911Z"
   },
   {
    "duration": 447,
    "start_time": "2022-02-20T15:32:47.913Z"
   },
   {
    "duration": 109376,
    "start_time": "2022-02-20T15:33:41.125Z"
   },
   {
    "duration": 94165,
    "start_time": "2022-02-20T15:35:30.503Z"
   },
   {
    "duration": 116,
    "start_time": "2022-02-20T15:37:04.671Z"
   },
   {
    "duration": 28,
    "start_time": "2022-02-20T15:37:04.789Z"
   },
   {
    "duration": 12,
    "start_time": "2022-02-20T15:37:04.819Z"
   },
   {
    "duration": 22,
    "start_time": "2022-02-20T15:37:04.833Z"
   },
   {
    "duration": 19,
    "start_time": "2022-02-20T15:37:04.857Z"
   },
   {
    "duration": 3,
    "start_time": "2022-02-20T15:37:04.878Z"
   },
   {
    "duration": 21,
    "start_time": "2022-02-20T15:37:04.883Z"
   },
   {
    "duration": 28,
    "start_time": "2022-02-20T15:37:04.906Z"
   },
   {
    "duration": 7,
    "start_time": "2022-02-20T15:37:04.936Z"
   },
   {
    "duration": 23,
    "start_time": "2022-02-20T15:37:04.945Z"
   },
   {
    "duration": 10,
    "start_time": "2022-02-20T15:37:04.970Z"
   },
   {
    "duration": 13,
    "start_time": "2022-02-20T15:37:04.981Z"
   },
   {
    "duration": 41,
    "start_time": "2022-02-20T15:37:04.996Z"
   },
   {
    "duration": 4751,
    "start_time": "2022-02-20T15:37:05.039Z"
   },
   {
    "duration": 485,
    "start_time": "2022-02-20T15:37:09.791Z"
   },
   {
    "duration": 233,
    "start_time": "2022-02-20T15:37:10.278Z"
   },
   {
    "duration": 497,
    "start_time": "2022-02-20T15:37:10.512Z"
   },
   {
    "duration": 24,
    "start_time": "2022-02-20T15:37:11.011Z"
   },
   {
    "duration": 5,
    "start_time": "2022-02-20T15:37:11.037Z"
   },
   {
    "duration": 372,
    "start_time": "2022-02-20T15:37:11.044Z"
   },
   {
    "duration": 247,
    "start_time": "2022-02-20T15:37:11.420Z"
   },
   {
    "duration": 202,
    "start_time": "2022-02-20T15:37:11.669Z"
   },
   {
    "duration": 11,
    "start_time": "2022-02-20T15:37:11.873Z"
   },
   {
    "duration": 318,
    "start_time": "2022-02-20T15:37:11.886Z"
   },
   {
    "duration": 533,
    "start_time": "2022-02-20T15:37:12.206Z"
   },
   {
    "duration": 959,
    "start_time": "2022-02-20T15:37:12.741Z"
   },
   {
    "duration": 735,
    "start_time": "2022-02-20T15:37:13.701Z"
   },
   {
    "duration": 762,
    "start_time": "2022-02-20T15:37:14.438Z"
   },
   {
    "duration": 666,
    "start_time": "2022-02-20T15:37:15.201Z"
   },
   {
    "duration": 12,
    "start_time": "2022-02-20T15:37:15.869Z"
   },
   {
    "duration": 10,
    "start_time": "2022-02-20T15:37:15.883Z"
   },
   {
    "duration": 91,
    "start_time": "2022-02-20T15:41:17.634Z"
   },
   {
    "duration": 25,
    "start_time": "2022-02-20T15:41:17.727Z"
   },
   {
    "duration": 13,
    "start_time": "2022-02-20T15:41:17.754Z"
   },
   {
    "duration": 20,
    "start_time": "2022-02-20T15:41:17.769Z"
   },
   {
    "duration": 44,
    "start_time": "2022-02-20T15:41:17.791Z"
   },
   {
    "duration": 3,
    "start_time": "2022-02-20T15:41:17.837Z"
   },
   {
    "duration": 22,
    "start_time": "2022-02-20T15:41:17.841Z"
   },
   {
    "duration": 6,
    "start_time": "2022-02-20T15:41:17.865Z"
   },
   {
    "duration": 4,
    "start_time": "2022-02-20T15:41:17.874Z"
   },
   {
    "duration": 53,
    "start_time": "2022-02-20T15:41:17.879Z"
   },
   {
    "duration": 10,
    "start_time": "2022-02-20T15:41:17.934Z"
   },
   {
    "duration": 12,
    "start_time": "2022-02-20T15:41:17.945Z"
   },
   {
    "duration": 15,
    "start_time": "2022-02-20T15:41:17.959Z"
   },
   {
    "duration": 483,
    "start_time": "2022-02-20T15:41:17.975Z"
   },
   {
    "duration": 475,
    "start_time": "2022-02-20T15:41:18.459Z"
   },
   {
    "duration": 262,
    "start_time": "2022-02-20T15:41:18.936Z"
   },
   {
    "duration": 487,
    "start_time": "2022-02-20T15:41:19.200Z"
   },
   {
    "duration": 16,
    "start_time": "2022-02-20T15:41:19.689Z"
   },
   {
    "duration": 26,
    "start_time": "2022-02-20T15:41:19.706Z"
   },
   {
    "duration": 519,
    "start_time": "2022-02-20T15:41:19.734Z"
   },
   {
    "duration": 232,
    "start_time": "2022-02-20T15:41:20.255Z"
   },
   {
    "duration": 195,
    "start_time": "2022-02-20T15:41:20.489Z"
   },
   {
    "duration": 46,
    "start_time": "2022-02-20T15:41:20.686Z"
   },
   {
    "duration": 275,
    "start_time": "2022-02-20T15:41:20.734Z"
   },
   {
    "duration": 524,
    "start_time": "2022-02-20T15:41:21.011Z"
   },
   {
    "duration": 1210,
    "start_time": "2022-02-20T15:41:21.536Z"
   },
   {
    "duration": 793,
    "start_time": "2022-02-20T15:41:22.750Z"
   },
   {
    "duration": 827,
    "start_time": "2022-02-20T15:41:23.545Z"
   },
   {
    "duration": 618,
    "start_time": "2022-02-20T15:41:24.375Z"
   },
   {
    "duration": 12,
    "start_time": "2022-02-20T15:41:24.994Z"
   },
   {
    "duration": 25,
    "start_time": "2022-02-20T15:41:25.008Z"
   },
   {
    "duration": 93,
    "start_time": "2022-02-20T15:50:09.494Z"
   },
   {
    "duration": 26,
    "start_time": "2022-02-20T15:50:10.595Z"
   },
   {
    "duration": 15,
    "start_time": "2022-02-20T15:50:12.686Z"
   },
   {
    "duration": 19,
    "start_time": "2022-02-20T15:50:14.595Z"
   },
   {
    "duration": 20,
    "start_time": "2022-02-20T15:50:15.457Z"
   },
   {
    "duration": 21,
    "start_time": "2022-02-20T15:50:30.068Z"
   },
   {
    "duration": 11,
    "start_time": "2022-02-20T15:50:34.139Z"
   },
   {
    "duration": 2641,
    "start_time": "2022-02-20T23:12:13.859Z"
   },
   {
    "duration": 4453,
    "start_time": "2022-02-20T23:12:16.502Z"
   },
   {
    "duration": 134,
    "start_time": "2022-02-20T23:12:29.331Z"
   },
   {
    "duration": 26,
    "start_time": "2022-02-20T23:12:29.467Z"
   },
   {
    "duration": 18,
    "start_time": "2022-02-20T23:12:29.496Z"
   },
   {
    "duration": 21,
    "start_time": "2022-02-20T23:12:29.532Z"
   },
   {
    "duration": 19,
    "start_time": "2022-02-20T23:12:29.554Z"
   },
   {
    "duration": 4,
    "start_time": "2022-02-20T23:12:29.575Z"
   },
   {
    "duration": 20,
    "start_time": "2022-02-20T23:12:29.581Z"
   },
   {
    "duration": 31,
    "start_time": "2022-02-20T23:12:29.604Z"
   },
   {
    "duration": 4,
    "start_time": "2022-02-20T23:12:29.638Z"
   },
   {
    "duration": 18,
    "start_time": "2022-02-20T23:12:29.644Z"
   },
   {
    "duration": 9,
    "start_time": "2022-02-20T23:12:29.664Z"
   },
   {
    "duration": 11,
    "start_time": "2022-02-20T23:12:29.675Z"
   },
   {
    "duration": 46,
    "start_time": "2022-02-20T23:12:29.688Z"
   },
   {
    "duration": 1040,
    "start_time": "2022-02-20T23:12:29.736Z"
   },
   {
    "duration": 397,
    "start_time": "2022-02-20T23:12:30.778Z"
   },
   {
    "duration": 316,
    "start_time": "2022-02-20T23:12:31.176Z"
   },
   {
    "duration": 457,
    "start_time": "2022-02-20T23:12:31.494Z"
   },
   {
    "duration": 11,
    "start_time": "2022-02-20T23:12:31.953Z"
   },
   {
    "duration": 5,
    "start_time": "2022-02-20T23:12:31.966Z"
   },
   {
    "duration": 473,
    "start_time": "2022-02-20T23:12:31.972Z"
   },
   {
    "duration": 346,
    "start_time": "2022-02-20T23:12:32.446Z"
   },
   {
    "duration": 275,
    "start_time": "2022-02-20T23:12:32.794Z"
   },
   {
    "duration": 11,
    "start_time": "2022-02-20T23:12:33.072Z"
   },
   {
    "duration": 303,
    "start_time": "2022-02-20T23:12:33.085Z"
   },
   {
    "duration": 523,
    "start_time": "2022-02-20T23:12:33.390Z"
   },
   {
    "duration": 695,
    "start_time": "2022-02-20T23:12:33.915Z"
   },
   {
    "duration": 820,
    "start_time": "2022-02-20T23:12:34.612Z"
   },
   {
    "duration": 840,
    "start_time": "2022-02-20T23:12:35.433Z"
   },
   {
    "duration": 695,
    "start_time": "2022-02-20T23:12:36.275Z"
   },
   {
    "duration": 10,
    "start_time": "2022-02-20T23:12:36.971Z"
   },
   {
    "duration": 12,
    "start_time": "2022-02-20T23:12:36.982Z"
   },
   {
    "duration": 176,
    "start_time": "2022-02-20T23:13:30.779Z"
   }
  ],
  "kernelspec": {
   "display_name": "Python 3 (ipykernel)",
   "language": "python",
   "name": "python3"
  },
  "language_info": {
   "codemirror_mode": {
    "name": "ipython",
    "version": 3
   },
   "file_extension": ".py",
   "mimetype": "text/x-python",
   "name": "python",
   "nbconvert_exporter": "python",
   "pygments_lexer": "ipython3",
   "version": "3.9.7"
  },
  "toc": {
   "base_numbering": 1,
   "nav_menu": {},
   "number_sections": true,
   "sideBar": true,
   "skip_h1_title": true,
   "title_cell": "Table of Contents",
   "title_sidebar": "Contents",
   "toc_cell": false,
   "toc_position": {},
   "toc_section_display": true,
   "toc_window_display": true
  }
 },
 "nbformat": 4,
 "nbformat_minor": 5
}
