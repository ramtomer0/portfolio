{
 "cells": [
  {
   "cell_type": "markdown",
   "id": "2fb4e785",
   "metadata": {},
   "source": [
    "Beta Bank customers are leaving: little by little, chipping away every month. The bankers figured out it’s cheaper to save the existing customers rather than to attract new ones.\n",
    "We need to predict whether a customer will leave the bank soon. We have the data on clients’ past behavior and termination of contracts with the bank.\n",
    "We will build a model with the maximum possible F1 score. We need an F1 score of at least 0.59. Check the F1 for the test set.\n",
    "Additionally, we will measure the AUC-ROC metric and compare it with the F1."
   ]
  },
  {
   "cell_type": "markdown",
   "id": "019586ce",
   "metadata": {},
   "source": [
    "Features\n",
    "\n",
    "    RowNumber — data string index\n",
    "    CustomerId — unique customer identifier\n",
    "    Surname — surname\n",
    "    CreditScore — credit score\n",
    "    Geography — country of residence\n",
    "    Gender — gender\n",
    "    Age — age\n",
    "    Tenure — period of maturation for a customer’s fixed deposit (years)\n",
    "    Balance — account balance\n",
    "    NumOfProducts — number of banking products used by the customer\n",
    "    HasCrCard — customer has a credit card\n",
    "    IsActiveMember — customer’s activeness\n",
    "    EstimatedSalary — estimated salary\n",
    "    \n",
    "Target\n",
    "\n",
    "    Exited — сustomer has left\n"
   ]
  },
  {
   "cell_type": "markdown",
   "id": "e1f5a836",
   "metadata": {},
   "source": [
    "# Download and prepare the data, and explain the procedure\n"
   ]
  },
  {
   "cell_type": "code",
   "execution_count": 114,
   "id": "db67b338",
   "metadata": {},
   "outputs": [],
   "source": [
    "import pandas as pd\n",
    "import numpy as np\n",
    "from sklearn.tree import DecisionTreeClassifier\n",
    "from sklearn.model_selection import train_test_split \n",
    "from sklearn.metrics import accuracy_score\n",
    "from sklearn.metrics import f1_score\n",
    "from sklearn.linear_model import LogisticRegression\n",
    "from joblib import dump\n",
    "from sklearn.ensemble import RandomForestClassifier\n",
    "from sklearn.preprocessing import LabelEncoder\n",
    "from sklearn.utils import shuffle\n",
    "from sklearn.metrics import roc_auc_score"
   ]
  },
  {
   "cell_type": "code",
   "execution_count": 115,
   "id": "835f910d",
   "metadata": {},
   "outputs": [],
   "source": [
    "df_bank = pd.read_csv('/datasets/Churn.csv')"
   ]
  },
  {
   "cell_type": "code",
   "execution_count": 116,
   "id": "bb47ff27",
   "metadata": {},
   "outputs": [
    {
     "name": "stdout",
     "output_type": "stream",
     "text": [
      "<class 'pandas.core.frame.DataFrame'>\n",
      "RangeIndex: 10000 entries, 0 to 9999\n",
      "Data columns (total 14 columns):\n",
      " #   Column           Non-Null Count  Dtype  \n",
      "---  ------           --------------  -----  \n",
      " 0   RowNumber        10000 non-null  int64  \n",
      " 1   CustomerId       10000 non-null  int64  \n",
      " 2   Surname          10000 non-null  object \n",
      " 3   CreditScore      10000 non-null  int64  \n",
      " 4   Geography        10000 non-null  object \n",
      " 5   Gender           10000 non-null  object \n",
      " 6   Age              10000 non-null  int64  \n",
      " 7   Tenure           9091 non-null   float64\n",
      " 8   Balance          10000 non-null  float64\n",
      " 9   NumOfProducts    10000 non-null  int64  \n",
      " 10  HasCrCard        10000 non-null  int64  \n",
      " 11  IsActiveMember   10000 non-null  int64  \n",
      " 12  EstimatedSalary  10000 non-null  float64\n",
      " 13  Exited           10000 non-null  int64  \n",
      "dtypes: float64(3), int64(8), object(3)\n",
      "memory usage: 1.1+ MB\n"
     ]
    },
    {
     "data": {
      "text/html": [
       "<div>\n",
       "<style scoped>\n",
       "    .dataframe tbody tr th:only-of-type {\n",
       "        vertical-align: middle;\n",
       "    }\n",
       "\n",
       "    .dataframe tbody tr th {\n",
       "        vertical-align: top;\n",
       "    }\n",
       "\n",
       "    .dataframe thead th {\n",
       "        text-align: right;\n",
       "    }\n",
       "</style>\n",
       "<table border=\"1\" class=\"dataframe\">\n",
       "  <thead>\n",
       "    <tr style=\"text-align: right;\">\n",
       "      <th></th>\n",
       "      <th>RowNumber</th>\n",
       "      <th>CustomerId</th>\n",
       "      <th>Surname</th>\n",
       "      <th>CreditScore</th>\n",
       "      <th>Geography</th>\n",
       "      <th>Gender</th>\n",
       "      <th>Age</th>\n",
       "      <th>Tenure</th>\n",
       "      <th>Balance</th>\n",
       "      <th>NumOfProducts</th>\n",
       "      <th>HasCrCard</th>\n",
       "      <th>IsActiveMember</th>\n",
       "      <th>EstimatedSalary</th>\n",
       "      <th>Exited</th>\n",
       "    </tr>\n",
       "  </thead>\n",
       "  <tbody>\n",
       "    <tr>\n",
       "      <th>0</th>\n",
       "      <td>1</td>\n",
       "      <td>15634602</td>\n",
       "      <td>Hargrave</td>\n",
       "      <td>619</td>\n",
       "      <td>France</td>\n",
       "      <td>Female</td>\n",
       "      <td>42</td>\n",
       "      <td>2.0</td>\n",
       "      <td>0.00</td>\n",
       "      <td>1</td>\n",
       "      <td>1</td>\n",
       "      <td>1</td>\n",
       "      <td>101348.88</td>\n",
       "      <td>1</td>\n",
       "    </tr>\n",
       "    <tr>\n",
       "      <th>1</th>\n",
       "      <td>2</td>\n",
       "      <td>15647311</td>\n",
       "      <td>Hill</td>\n",
       "      <td>608</td>\n",
       "      <td>Spain</td>\n",
       "      <td>Female</td>\n",
       "      <td>41</td>\n",
       "      <td>1.0</td>\n",
       "      <td>83807.86</td>\n",
       "      <td>1</td>\n",
       "      <td>0</td>\n",
       "      <td>1</td>\n",
       "      <td>112542.58</td>\n",
       "      <td>0</td>\n",
       "    </tr>\n",
       "    <tr>\n",
       "      <th>2</th>\n",
       "      <td>3</td>\n",
       "      <td>15619304</td>\n",
       "      <td>Onio</td>\n",
       "      <td>502</td>\n",
       "      <td>France</td>\n",
       "      <td>Female</td>\n",
       "      <td>42</td>\n",
       "      <td>8.0</td>\n",
       "      <td>159660.80</td>\n",
       "      <td>3</td>\n",
       "      <td>1</td>\n",
       "      <td>0</td>\n",
       "      <td>113931.57</td>\n",
       "      <td>1</td>\n",
       "    </tr>\n",
       "    <tr>\n",
       "      <th>3</th>\n",
       "      <td>4</td>\n",
       "      <td>15701354</td>\n",
       "      <td>Boni</td>\n",
       "      <td>699</td>\n",
       "      <td>France</td>\n",
       "      <td>Female</td>\n",
       "      <td>39</td>\n",
       "      <td>1.0</td>\n",
       "      <td>0.00</td>\n",
       "      <td>2</td>\n",
       "      <td>0</td>\n",
       "      <td>0</td>\n",
       "      <td>93826.63</td>\n",
       "      <td>0</td>\n",
       "    </tr>\n",
       "    <tr>\n",
       "      <th>4</th>\n",
       "      <td>5</td>\n",
       "      <td>15737888</td>\n",
       "      <td>Mitchell</td>\n",
       "      <td>850</td>\n",
       "      <td>Spain</td>\n",
       "      <td>Female</td>\n",
       "      <td>43</td>\n",
       "      <td>2.0</td>\n",
       "      <td>125510.82</td>\n",
       "      <td>1</td>\n",
       "      <td>1</td>\n",
       "      <td>1</td>\n",
       "      <td>79084.10</td>\n",
       "      <td>0</td>\n",
       "    </tr>\n",
       "  </tbody>\n",
       "</table>\n",
       "</div>"
      ],
      "text/plain": [
       "   RowNumber  CustomerId   Surname  CreditScore Geography  Gender  Age  \\\n",
       "0          1    15634602  Hargrave          619    France  Female   42   \n",
       "1          2    15647311      Hill          608     Spain  Female   41   \n",
       "2          3    15619304      Onio          502    France  Female   42   \n",
       "3          4    15701354      Boni          699    France  Female   39   \n",
       "4          5    15737888  Mitchell          850     Spain  Female   43   \n",
       "\n",
       "   Tenure    Balance  NumOfProducts  HasCrCard  IsActiveMember  \\\n",
       "0     2.0       0.00              1          1               1   \n",
       "1     1.0   83807.86              1          0               1   \n",
       "2     8.0  159660.80              3          1               0   \n",
       "3     1.0       0.00              2          0               0   \n",
       "4     2.0  125510.82              1          1               1   \n",
       "\n",
       "   EstimatedSalary  Exited  \n",
       "0        101348.88       1  \n",
       "1        112542.58       0  \n",
       "2        113931.57       1  \n",
       "3         93826.63       0  \n",
       "4         79084.10       0  "
      ]
     },
     "execution_count": 116,
     "metadata": {},
     "output_type": "execute_result"
    }
   ],
   "source": [
    "df_bank.info()\n",
    "df_bank.head()"
   ]
  },
  {
   "cell_type": "markdown",
   "id": "4fd03762",
   "metadata": {},
   "source": [
    "There are a few columns which we will need to disregard (RowNumber, CustomerId, Surname) as they will have no effect on the target (Exited). There are almost a thousand null values in Tenure, which we will need to handle in order to later encode some of the data (Geography, Gender)"
   ]
  },
  {
   "cell_type": "code",
   "execution_count": 117,
   "id": "743d6912",
   "metadata": {},
   "outputs": [
    {
     "data": {
      "text/plain": [
       "5.0     1836\n",
       "1.0      952\n",
       "2.0      950\n",
       "8.0      933\n",
       "3.0      928\n",
       "7.0      925\n",
       "4.0      885\n",
       "9.0      882\n",
       "6.0      881\n",
       "10.0     446\n",
       "0.0      382\n",
       "Name: Tenure, dtype: int64"
      ]
     },
     "execution_count": 117,
     "metadata": {},
     "output_type": "execute_result"
    }
   ],
   "source": [
    "df_bank['Tenure'].fillna(df_bank['Tenure'].median(), axis = 0, inplace=True)\n",
    "df_bank['Tenure'].value_counts()"
   ]
  },
  {
   "cell_type": "markdown",
   "id": "02cb4a07",
   "metadata": {},
   "source": [
    "Encoding the Geography and Gender columns"
   ]
  },
  {
   "cell_type": "code",
   "execution_count": 118,
   "id": "79d51cd8",
   "metadata": {},
   "outputs": [
    {
     "data": {
      "text/html": [
       "<div>\n",
       "<style scoped>\n",
       "    .dataframe tbody tr th:only-of-type {\n",
       "        vertical-align: middle;\n",
       "    }\n",
       "\n",
       "    .dataframe tbody tr th {\n",
       "        vertical-align: top;\n",
       "    }\n",
       "\n",
       "    .dataframe thead th {\n",
       "        text-align: right;\n",
       "    }\n",
       "</style>\n",
       "<table border=\"1\" class=\"dataframe\">\n",
       "  <thead>\n",
       "    <tr style=\"text-align: right;\">\n",
       "      <th></th>\n",
       "      <th>RowNumber</th>\n",
       "      <th>CustomerId</th>\n",
       "      <th>Surname</th>\n",
       "      <th>CreditScore</th>\n",
       "      <th>Age</th>\n",
       "      <th>Tenure</th>\n",
       "      <th>Balance</th>\n",
       "      <th>NumOfProducts</th>\n",
       "      <th>HasCrCard</th>\n",
       "      <th>IsActiveMember</th>\n",
       "      <th>EstimatedSalary</th>\n",
       "      <th>Exited</th>\n",
       "      <th>Geography_Germany</th>\n",
       "      <th>Geography_Spain</th>\n",
       "      <th>Gender_Male</th>\n",
       "    </tr>\n",
       "  </thead>\n",
       "  <tbody>\n",
       "    <tr>\n",
       "      <th>0</th>\n",
       "      <td>1</td>\n",
       "      <td>15634602</td>\n",
       "      <td>Hargrave</td>\n",
       "      <td>619</td>\n",
       "      <td>42</td>\n",
       "      <td>2.0</td>\n",
       "      <td>0.00</td>\n",
       "      <td>1</td>\n",
       "      <td>1</td>\n",
       "      <td>1</td>\n",
       "      <td>101348.88</td>\n",
       "      <td>1</td>\n",
       "      <td>0</td>\n",
       "      <td>0</td>\n",
       "      <td>0</td>\n",
       "    </tr>\n",
       "    <tr>\n",
       "      <th>1</th>\n",
       "      <td>2</td>\n",
       "      <td>15647311</td>\n",
       "      <td>Hill</td>\n",
       "      <td>608</td>\n",
       "      <td>41</td>\n",
       "      <td>1.0</td>\n",
       "      <td>83807.86</td>\n",
       "      <td>1</td>\n",
       "      <td>0</td>\n",
       "      <td>1</td>\n",
       "      <td>112542.58</td>\n",
       "      <td>0</td>\n",
       "      <td>0</td>\n",
       "      <td>1</td>\n",
       "      <td>0</td>\n",
       "    </tr>\n",
       "    <tr>\n",
       "      <th>2</th>\n",
       "      <td>3</td>\n",
       "      <td>15619304</td>\n",
       "      <td>Onio</td>\n",
       "      <td>502</td>\n",
       "      <td>42</td>\n",
       "      <td>8.0</td>\n",
       "      <td>159660.80</td>\n",
       "      <td>3</td>\n",
       "      <td>1</td>\n",
       "      <td>0</td>\n",
       "      <td>113931.57</td>\n",
       "      <td>1</td>\n",
       "      <td>0</td>\n",
       "      <td>0</td>\n",
       "      <td>0</td>\n",
       "    </tr>\n",
       "    <tr>\n",
       "      <th>3</th>\n",
       "      <td>4</td>\n",
       "      <td>15701354</td>\n",
       "      <td>Boni</td>\n",
       "      <td>699</td>\n",
       "      <td>39</td>\n",
       "      <td>1.0</td>\n",
       "      <td>0.00</td>\n",
       "      <td>2</td>\n",
       "      <td>0</td>\n",
       "      <td>0</td>\n",
       "      <td>93826.63</td>\n",
       "      <td>0</td>\n",
       "      <td>0</td>\n",
       "      <td>0</td>\n",
       "      <td>0</td>\n",
       "    </tr>\n",
       "    <tr>\n",
       "      <th>4</th>\n",
       "      <td>5</td>\n",
       "      <td>15737888</td>\n",
       "      <td>Mitchell</td>\n",
       "      <td>850</td>\n",
       "      <td>43</td>\n",
       "      <td>2.0</td>\n",
       "      <td>125510.82</td>\n",
       "      <td>1</td>\n",
       "      <td>1</td>\n",
       "      <td>1</td>\n",
       "      <td>79084.10</td>\n",
       "      <td>0</td>\n",
       "      <td>0</td>\n",
       "      <td>1</td>\n",
       "      <td>0</td>\n",
       "    </tr>\n",
       "  </tbody>\n",
       "</table>\n",
       "</div>"
      ],
      "text/plain": [
       "   RowNumber  CustomerId   Surname  CreditScore  Age  Tenure    Balance  \\\n",
       "0          1    15634602  Hargrave          619   42     2.0       0.00   \n",
       "1          2    15647311      Hill          608   41     1.0   83807.86   \n",
       "2          3    15619304      Onio          502   42     8.0  159660.80   \n",
       "3          4    15701354      Boni          699   39     1.0       0.00   \n",
       "4          5    15737888  Mitchell          850   43     2.0  125510.82   \n",
       "\n",
       "   NumOfProducts  HasCrCard  IsActiveMember  EstimatedSalary  Exited  \\\n",
       "0              1          1               1        101348.88       1   \n",
       "1              1          0               1        112542.58       0   \n",
       "2              3          1               0        113931.57       1   \n",
       "3              2          0               0         93826.63       0   \n",
       "4              1          1               1         79084.10       0   \n",
       "\n",
       "   Geography_Germany  Geography_Spain  Gender_Male  \n",
       "0                  0                0            0  \n",
       "1                  0                1            0  \n",
       "2                  0                0            0  \n",
       "3                  0                0            0  \n",
       "4                  0                1            0  "
      ]
     },
     "execution_count": 118,
     "metadata": {},
     "output_type": "execute_result"
    }
   ],
   "source": [
    "# encoder = LabelEncoder()\n",
    "# df_bank['Geography'] = encoder.fit_transform(df_bank['Geography'])\n",
    "# df_bank['Gender'] = encoder.fit_transform(df_bank['Gender'])\n",
    "# df_bank.head()\n",
    "\n",
    "df_bank = pd.get_dummies(df_bank, columns=['Geography', 'Gender'], drop_first = True)\n",
    "df_bank.head()"
   ]
  },
  {
   "cell_type": "markdown",
   "id": "d0c2cd50",
   "metadata": {},
   "source": [
    "# Examine the balance of classes. Train the model without taking into account the imbalance, and describe our findings"
   ]
  },
  {
   "cell_type": "markdown",
   "id": "a709b099",
   "metadata": {},
   "source": [
    "We will examine the balnce of classes and the effectiveness of different models using the loops from the previous project"
   ]
  },
  {
   "cell_type": "code",
   "execution_count": 119,
   "id": "be893a75",
   "metadata": {},
   "outputs": [],
   "source": [
    "train, validate, test = np.split(df_bank.sample(frac=1, random_state=12345), [int(.6*len(df_bank)), int(.8*len(df_bank))])"
   ]
  },
  {
   "cell_type": "code",
   "execution_count": 120,
   "id": "6764aaff",
   "metadata": {},
   "outputs": [],
   "source": [
    "features_train = train.drop(['Exited', 'RowNumber', 'CustomerId', 'Surname'], axis=1)\n",
    "target_train = train['Exited']\n",
    "features_valid = validate.drop(['Exited', 'RowNumber', 'CustomerId', 'Surname'], axis=1)\n",
    "target_valid = validate['Exited']\n",
    "features_test = test.drop(['Exited', 'RowNumber', 'CustomerId', 'Surname'], axis=1)\n",
    "target_test = test['Exited']"
   ]
  },
  {
   "cell_type": "code",
   "execution_count": 121,
   "id": "3fb79a4b",
   "metadata": {},
   "outputs": [
    {
     "name": "stdout",
     "output_type": "stream",
     "text": [
      "F1 Score of the best model: 0.5371775417298937\n",
      "Best depth: 7\n"
     ]
    }
   ],
   "source": [
    "best_score = 0\n",
    "for depth in range(1, 20):\n",
    "    model = DecisionTreeClassifier(random_state=54321, max_depth=depth) # create a model with the given depth\n",
    "    model.fit(features_train, target_train) # train the model\n",
    "    predicted_valid = model.predict(features_valid) # get the model's predictions\n",
    "    score = f1_score(target_valid, predicted_valid) # calculate accuracy score on validation set        \n",
    "    if score > best_score:\n",
    "        best_score = score\n",
    "        best_depth = depth\n",
    "\n",
    "        \n",
    "print(\"F1 Score of the best model:\", best_score)\n",
    "print(\"Best depth:\", best_depth)"
   ]
  },
  {
   "cell_type": "markdown",
   "id": "66a28654",
   "metadata": {},
   "source": [
    "The model yielded unsatisfactory result using decision tree on imbalanced data."
   ]
  },
  {
   "cell_type": "code",
   "execution_count": 122,
   "id": "e1c55b73",
   "metadata": {},
   "outputs": [
    {
     "name": "stdout",
     "output_type": "stream",
     "text": [
      "0.08067940552016985\n"
     ]
    }
   ],
   "source": [
    "model = LogisticRegression(random_state=54321, solver='lbfgs') \n",
    "model.fit(features_train, target_train) \n",
    "predicted_valid = model.predict(features_valid)\n",
    "score = f1_score(target_valid, predicted_valid)\n",
    "print(score)"
   ]
  },
  {
   "cell_type": "markdown",
   "id": "2b5ecf55",
   "metadata": {},
   "source": [
    "Terrible results from the model using logistic regression, doubt we will use it again here"
   ]
  },
  {
   "cell_type": "code",
   "execution_count": 123,
   "id": "44c56925",
   "metadata": {},
   "outputs": [
    {
     "name": "stdout",
     "output_type": "stream",
     "text": [
      "F1 Score of the best model on the validation set (n_estimators = 13): 0.532724505327245\n",
      "Best depth: 18\n"
     ]
    }
   ],
   "source": [
    "best_score = 0\n",
    "best_est = 0\n",
    "for est in range(1, 15): # choose hyperparameter range\n",
    "    for depth in range(1, 20):\n",
    "        model = RandomForestClassifier(random_state=54321, n_estimators=est, max_depth = depth) # set number of trees\n",
    "        model.fit(features_train, target_train) # train model on training set\n",
    "        predicted_valid = model.predict(features_valid) # get the model's predictions\n",
    "        score = f1_score(target_valid, predicted_valid) # calculate accuracy score on validation set        \n",
    "        if score > best_score:\n",
    "            best_score = score\n",
    "            best_est = est\n",
    "            best_depth = depth\n",
    "\n",
    "print(\"F1 Score of the best model on the validation set (n_estimators = {}): {}\".format(best_est, best_score))\n",
    "print(\"Best depth:\", best_depth)"
   ]
  },
  {
   "cell_type": "markdown",
   "id": "a995b1a9",
   "metadata": {},
   "source": [
    "Results from the model trained with random forest yielded slightly worse results than the decision tree"
   ]
  },
  {
   "cell_type": "markdown",
   "id": "f7c95815",
   "metadata": {},
   "source": [
    "Since we couldn't train a model to bring us the needed result with the imbalanced data, we will jump straight to balancing the data, then repeat the training"
   ]
  },
  {
   "cell_type": "markdown",
   "id": "e53d5ec4",
   "metadata": {},
   "source": [
    "# We will improve the quality of the model. We will train Upsampling and Downsampling to try and fix class imbalance. We will use the training set to pick the best parameters. We will train different models on training and validation sets. We will find the best one, briefly describe our findings"
   ]
  },
  {
   "cell_type": "markdown",
   "id": "26c35a7f",
   "metadata": {},
   "source": [
    "First we define an upsampling function"
   ]
  },
  {
   "cell_type": "code",
   "execution_count": 124,
   "id": "3541b517",
   "metadata": {},
   "outputs": [],
   "source": [
    "def upsample(features, target, repeat):\n",
    "    features_zeros = features[target == 0]\n",
    "    features_ones = features[target == 1]\n",
    "    target_zeros = target[target == 0]\n",
    "    target_ones = target[target == 1]\n",
    "\n",
    "    features_upsampled = pd.concat([features_zeros] + [features_ones] * repeat)\n",
    "    target_upsampled = pd.concat([target_zeros] + [target_ones] * repeat)\n",
    "\n",
    "    features_upsampled, target_upsampled = shuffle(\n",
    "        features_upsampled, target_upsampled, random_state=54321\n",
    "    )\n",
    "\n",
    "    return features_upsampled, target_upsampled"
   ]
  },
  {
   "cell_type": "markdown",
   "id": "4c1439f7",
   "metadata": {},
   "source": [
    "Now we train the model using upsampled data"
   ]
  },
  {
   "cell_type": "code",
   "execution_count": 125,
   "id": "becc2d83",
   "metadata": {},
   "outputs": [
    {
     "name": "stdout",
     "output_type": "stream",
     "text": [
      "F1 Score of the best model: 0.5551425030978934\n",
      "Best depth: 9\n",
      "Best repeat: 2\n"
     ]
    }
   ],
   "source": [
    "best_score = 0\n",
    "for repeat in range(1,5):\n",
    "    features_upsampled, target_upsampled = upsample(features_train, target_train, repeat)\n",
    "    for depth in range(1, 20):\n",
    "        model = DecisionTreeClassifier(random_state=54321, max_depth=depth) \n",
    "        model.fit(features_upsampled, target_upsampled) \n",
    "        predicted_valid = model.predict(features_valid) \n",
    "        score = f1_score(target_valid, predicted_valid) \n",
    "        if score > best_score:\n",
    "            best_score = score\n",
    "            best_depth = depth\n",
    "            best_repeat = repeat\n",
    "\n",
    "        \n",
    "print(\"F1 Score of the best model:\", best_score)\n",
    "print(\"Best depth:\", best_depth)\n",
    "print(\"Best repeat:\", best_repeat)\n"
   ]
  },
  {
   "cell_type": "markdown",
   "id": "ee6a0bf7",
   "metadata": {},
   "source": [
    "On to try logistic regression again"
   ]
  },
  {
   "cell_type": "code",
   "execution_count": 126,
   "id": "b1ab8377",
   "metadata": {},
   "outputs": [
    {
     "name": "stdout",
     "output_type": "stream",
     "text": [
      "F1 Score of the best model: 0.4338537387017256\n",
      "Best repeat: 4\n"
     ]
    }
   ],
   "source": [
    "best_score = 0\n",
    "best_repeat = 0\n",
    "for repeat in range(1,5):\n",
    "    features_upsampled, target_upsampled = upsample(features_train, target_train, repeat)\n",
    "    model = LogisticRegression(random_state=54321, solver='lbfgs') \n",
    "    model.fit(features_upsampled, target_upsampled) \n",
    "    predicted_valid = model.predict(features_valid)\n",
    "    score = f1_score(target_valid, predicted_valid)\n",
    "    if score > best_score:\n",
    "        best_score = score\n",
    "        best_repeat = repeat\n",
    "\n",
    "print(\"F1 Score of the best model:\", best_score)\n",
    "print(\"Best repeat:\", best_repeat)"
   ]
  },
  {
   "cell_type": "markdown",
   "id": "06ee3de2",
   "metadata": {},
   "source": [
    "On to random forest"
   ]
  },
  {
   "cell_type": "code",
   "execution_count": 127,
   "id": "59f0e1e0",
   "metadata": {},
   "outputs": [
    {
     "name": "stdout",
     "output_type": "stream",
     "text": [
      "F1 Score of the best model on the validation set (n_estimators = 11): 0.599758162031439\n",
      "Best depth: 10\n",
      "Best repeat: 3\n"
     ]
    }
   ],
   "source": [
    "best_score = 0\n",
    "best_est = 0\n",
    "best_repeat = 0\n",
    "for repeat in range(1,5):\n",
    "    features_upsampled, target_upsampled = upsample(features_train, target_train, repeat)\n",
    "    for est in range(1, 15): # choose hyperparameter range\n",
    "        for depth in range(1, 20):\n",
    "            model = RandomForestClassifier(random_state=54321, n_estimators=est, max_depth = depth)\n",
    "            model.fit(features_upsampled, target_upsampled)\n",
    "            predicted_valid = model.predict(features_valid) \n",
    "            score = f1_score(target_valid, predicted_valid)  \n",
    "            if score > best_score:\n",
    "                best_score = score\n",
    "                best_est = est\n",
    "                best_depth = depth\n",
    "                best_repeat = repeat\n",
    "\n",
    "print(\"F1 Score of the best model on the validation set (n_estimators = {}): {}\".format(best_est, best_score))\n",
    "print(\"Best depth:\", best_depth)\n",
    "print(\"Best repeat:\", best_repeat)"
   ]
  },
  {
   "cell_type": "markdown",
   "id": "51f95aee",
   "metadata": {},
   "source": [
    "We have a very good result using the random forest with upsampled data"
   ]
  },
  {
   "cell_type": "markdown",
   "id": "47e79f63",
   "metadata": {},
   "source": [
    "Now we define a downsampling function"
   ]
  },
  {
   "cell_type": "code",
   "execution_count": 128,
   "id": "b2c9a624",
   "metadata": {},
   "outputs": [],
   "source": [
    "def downsample(features, target, fraction):\n",
    "    features_zeros = features[target == 0]\n",
    "    features_ones = features[target == 1]\n",
    "    target_zeros = target[target == 0]\n",
    "    target_ones = target[target == 1]\n",
    "\n",
    "    features_downsampled = pd.concat(\n",
    "        [features_zeros.sample(frac=fraction, random_state=12345)]\n",
    "        + [features_ones]\n",
    "    )\n",
    "    target_downsampled = pd.concat(\n",
    "        [target_zeros.sample(frac=fraction, random_state=12345)]\n",
    "        + [target_ones]\n",
    "    )\n",
    "\n",
    "    features_downsampled, target_downsampled = shuffle(\n",
    "        features_downsampled, target_downsampled, random_state=12345\n",
    "    )\n",
    "\n",
    "    return features_downsampled, target_downsampled"
   ]
  },
  {
   "cell_type": "code",
   "execution_count": 129,
   "id": "a32ea713",
   "metadata": {},
   "outputs": [
    {
     "name": "stdout",
     "output_type": "stream",
     "text": [
      "F1 Score of the best model: 0.5773955773955773\n",
      "Best depth: 6\n",
      "Best fraction: 0.5500000000000002\n"
     ]
    }
   ],
   "source": [
    "best_score = 0\n",
    "best_frac = 0\n",
    "for frac in np.arange(0.1, 0.7, 0.05):\n",
    "    features_downsampled, target_downsampled = downsample(features_train, target_train, frac)\n",
    "    for depth in range(1, 20):\n",
    "        model = DecisionTreeClassifier(random_state=54321, max_depth=depth) # create a model with the given depth\n",
    "        model.fit(features_downsampled, target_downsampled) # train the model\n",
    "        predicted_valid = model.predict(features_valid) # get the model's predictions\n",
    "        score = f1_score(target_valid, predicted_valid) # calculate accuracy score on validation set        \n",
    "        if score > best_score:\n",
    "            best_score = score\n",
    "            best_depth = depth\n",
    "            best_frac = frac\n",
    "\n",
    "        \n",
    "print(\"F1 Score of the best model:\", best_score)\n",
    "print(\"Best depth:\", best_depth)\n",
    "print(\"Best fraction:\", best_frac)"
   ]
  },
  {
   "cell_type": "code",
   "execution_count": 130,
   "id": "57f4f93b",
   "metadata": {},
   "outputs": [
    {
     "name": "stdout",
     "output_type": "stream",
     "text": [
      "F1 Score of the best model: 0.4282157676348548\n",
      "Best fraction: 0.25000000000000006\n"
     ]
    }
   ],
   "source": [
    "best_frac = 0\n",
    "best_score = 0\n",
    "for frac in np.arange(0.1, 0.7, 0.05):\n",
    "    features_downsampled, target_downsampled = downsample(features_train, target_train, frac)\n",
    "    model = LogisticRegression(random_state=54321, solver='lbfgs') \n",
    "    model.fit(features_downsampled, target_downsampled) \n",
    "    predicted_valid = model.predict(features_valid)\n",
    "    score = f1_score(target_valid, predicted_valid)\n",
    "    if score > best_score:\n",
    "        best_score = score\n",
    "        best_frac = frac\n",
    "print(\"F1 Score of the best model:\", best_score)\n",
    "print(\"Best fraction:\", best_frac)"
   ]
  },
  {
   "cell_type": "code",
   "execution_count": 131,
   "id": "64eaaec7",
   "metadata": {},
   "outputs": [
    {
     "name": "stdout",
     "output_type": "stream",
     "text": [
      "F1 Score of the best model on the validation set (n_estimators = 14): 0.5927710843373494\n",
      "Best depth: 18\n",
      "Best fraction: 0.45000000000000007\n"
     ]
    }
   ],
   "source": [
    "best_score = 0\n",
    "best_est = 0\n",
    "best_frac = 0\n",
    "for frac in np.arange(0.1, 0.7, 0.05):\n",
    "    features_downsampled, target_downsampled = downsample(features_train, target_train, frac)\n",
    "    for est in range(1, 15): # choose hyperparameter range\n",
    "        for depth in range(1, 20):\n",
    "            model = RandomForestClassifier(random_state=54321, n_estimators=est, max_depth = depth) # set number of trees\n",
    "            model.fit(features_downsampled, target_downsampled) # train model on training set\n",
    "            predicted_valid = model.predict(features_valid) # get the model's predictions\n",
    "            score = f1_score(target_valid, predicted_valid) # calculate accuracy score on validation set        \n",
    "            if score > best_score:\n",
    "                best_score = score\n",
    "                best_est = est\n",
    "                best_depth = depth\n",
    "                best_frac = frac\n",
    "\n",
    "print(\"F1 Score of the best model on the validation set (n_estimators = {}): {}\".format(best_est, best_score))\n",
    "print(\"Best depth:\", best_depth)\n",
    "print(\"Best fraction:\", best_frac)"
   ]
  },
  {
   "cell_type": "markdown",
   "id": "cacc74bb",
   "metadata": {},
   "source": [
    "Our best model was with random forest with 11 estimators and depth of 10 using upsampled data"
   ]
  },
  {
   "cell_type": "markdown",
   "id": "33553aac",
   "metadata": {},
   "source": [
    "# Final Test"
   ]
  },
  {
   "cell_type": "markdown",
   "id": "e4a6fdfa",
   "metadata": {},
   "source": [
    "We will now use our best model and use it on our test data"
   ]
  },
  {
   "cell_type": "code",
   "execution_count": 132,
   "id": "59a68211",
   "metadata": {},
   "outputs": [
    {
     "data": {
      "text/plain": [
       "0.6546610169491526"
      ]
     },
     "execution_count": 132,
     "metadata": {},
     "output_type": "execute_result"
    }
   ],
   "source": [
    "model = RandomForestClassifier(random_state=54321, n_estimators=11, max_depth = 10) \n",
    "model.fit(features_upsampled, target_upsampled)\n",
    "predicted_test = model.predict(features_test)\n",
    "result = f1_score(target_test, predicted_test) \n",
    "result"
   ]
  },
  {
   "cell_type": "markdown",
   "id": "b54200cb",
   "metadata": {},
   "source": [
    "Very satisfactory result! Onwards to the AUC-ROC test"
   ]
  },
  {
   "cell_type": "code",
   "execution_count": 133,
   "id": "de6e3e2e",
   "metadata": {},
   "outputs": [
    {
     "name": "stdout",
     "output_type": "stream",
     "text": [
      "0.8667102957259627\n"
     ]
    }
   ],
   "source": [
    "probabilities_test = model.predict_proba(features_test)\n",
    "probabilities_one_test = probabilities_test[:, 1]\n",
    "auc_roc = roc_auc_score(target_test, probabilities_one_test)\n",
    "print(auc_roc)"
   ]
  },
  {
   "cell_type": "markdown",
   "id": "d155721f",
   "metadata": {},
   "source": [
    "The AUC-ROC test yielded way higher result than the F1 result using our best model"
   ]
  },
  {
   "cell_type": "markdown",
   "id": "ae9c365b",
   "metadata": {},
   "source": [
    "# Final Conclusion"
   ]
  },
  {
   "cell_type": "markdown",
   "id": "fe19e77e",
   "metadata": {},
   "source": [
    "We made a pretty reliable churn-prediction model by Beta Bank's strandards (65% rate compared to 59% goal).\n",
    "Additionally the same model produced an excellent AUC-ROC score of 85%. It is safe to say management will be pleased"
   ]
  }
 ],
 "metadata": {
  "kernelspec": {
   "display_name": "Python 3 (ipykernel)",
   "language": "python",
   "name": "python3"
  },
  "language_info": {
   "codemirror_mode": {
    "name": "ipython",
    "version": 3
   },
   "file_extension": ".py",
   "mimetype": "text/x-python",
   "name": "python",
   "nbconvert_exporter": "python",
   "pygments_lexer": "ipython3",
   "version": "3.9.5"
  },
  "toc": {
   "base_numbering": 1,
   "nav_menu": {},
   "number_sections": true,
   "sideBar": true,
   "skip_h1_title": true,
   "title_cell": "Table of Contents",
   "title_sidebar": "Contents",
   "toc_cell": false,
   "toc_position": {},
   "toc_section_display": true,
   "toc_window_display": false
  }
 },
 "nbformat": 4,
 "nbformat_minor": 5
}
